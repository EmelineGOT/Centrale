{
 "cells": [
  {
   "cell_type": "markdown",
   "metadata": {},
   "source": [
    "#  <center>Informatique tc2 (Conception et programmation objet) - TD4</center>"
   ]
  },
  {
   "cell_type": "markdown",
   "metadata": {},
   "source": [
    "## <center style=\"color: #66d\">Jeu du pendu</center>"
   ]
  },
  {
   "cell_type": "markdown",
   "metadata": {},
   "source": [
    "# DEPAQUIT Romain - GOT Emeline\n",
    "\n",
    "# A1a - Daniel Muller\n",
    "\n",
    "\n",
    "\n"
   ]
  },
  {
   "cell_type": "markdown",
   "metadata": {},
   "source": [
    "### A. Objectif du TD"
   ]
  },
  {
   "cell_type": "markdown",
   "metadata": {},
   "source": [
    "L’objectif de ce TD est de réaliser une application “Jeu du Pendu”. Pour rappel, le jeu du\n",
    "Pendu consiste à essayer de découvrir un mot qui est affiché de manière masquée (chacune\n",
    "de ses lettres est remplacée par le caractère “*”).\n",
    "\n",
    "Pour cela, le joueur sélectionne une lettre\n",
    "à chaque étape. Si cette lettre fait partie du mot, alors le mot à découvrir est réaffiché avec\n",
    "cette lettre en clair. Si par contre le mot ne contient pas la lettre alors un élément du pendu\n",
    "est ajouté. Le joueur gagne s’il a pu découvrir le mot avant que le pendu n’ait été\n",
    "complètement affiché (10 coups manqués).\n",
    "\n",
    "Quelques étapes du déroulement du jeu sont\n",
    "présentées dans la figure suivante."
   ]
  },
  {
   "cell_type": "markdown",
   "metadata": {},
   "source": [
    "<img src=\"fig1.png\">\n",
    "<br>\n",
    "<img src=\"fig2.png\">"
   ]
  },
  {
   "cell_type": "markdown",
   "metadata": {},
   "source": [
    "<center>__Figure 1 – Quelques étapes du déroulement du jeu du pendu__</center>"
   ]
  },
  {
   "cell_type": "markdown",
   "metadata": {},
   "source": [
    "Lors du commencement d’une nouvelle partie, aucun élément du pendu n’est affiché et le\n",
    "mot à découvrir est complèment masqué (première image). Après un certain nombre\n",
    "d’essais, certaintes lettres du mot ont été découvertes et d’autres coups manqués ont mené\n",
    "à l’affichage d’éléments du pendu (deuxième image). Au fur et à mesure que les lettres sont\n",
    "sélectionnées par le joueur, celles-ci sont désactivées sur le clavier virtuel afin d’éviter\n",
    "qu’elles ne soient choisies à plusieurs reprises."
   ]
  },
  {
   "cell_type": "markdown",
   "metadata": {},
   "source": [
    "La troisième image correspond à une situation où le joueur a perdu car l’ensemble des\n",
    "lettres constituant le mot n’a pas été découvert avant l’affichage complet du pendu. La\n",
    "quatrième image correspond à une victoire du joueur."
   ]
  },
  {
   "cell_type": "markdown",
   "metadata": {},
   "source": [
    "### B. Mise en place de le fenêtre principale"
   ]
  },
  {
   "cell_type": "markdown",
   "metadata": {},
   "source": [
    "Lors du TD précédent, une interface a été réalisée permettant l’affichage d’une zone de\n",
    "boutons de contrôle de l’application et une zone d’affichage de formes géométriques. Nous\n",
    "allons dans ce TD compléter cette interface pour afficher le mot à découvrir et le clavier\n",
    "virtuel permettant au joueur de sélectionner les lettres afin de deviner le mot."
   ]
  },
  {
   "cell_type": "markdown",
   "metadata": {},
   "source": [
    "#### 1. Création d’une nouvelle classe de boutons pour le clavier virtuel"
   ]
  },
  {
   "cell_type": "markdown",
   "metadata": {},
   "source": [
    "Nous allons créer une nouvelle classe correspondant aux touches du clavier virtuel. Il s’agit\n",
    "ici de boutons que nous devons adapter à nos besoins. Cette classe, nommée “MonBouton”\n",
    "par exemple devra donc hériter de la classe Tkinter “Button”. Nous complèterons cette\n",
    "classe par la suite pour lui ajouter les fonctionnalités nécessaires à notre application."
   ]
  },
  {
   "cell_type": "markdown",
   "metadata": {},
   "source": [
    "#### 2. Ajout du clavier virtuel à la fenêtre principale"
   ]
  },
  {
   "cell_type": "markdown",
   "metadata": {},
   "source": [
    "La fenêtre principale correspond à la classe “FenPrincipale” créée lors du TD précédent.\n",
    "Nous allons ici la compléter pour permettre le déroulement du jeu du Pendu. En particulier,\n",
    "nous avons besoin d’un clavier virtuel contenant des touches qui sont en fait des instances\n",
    "de la classe “MonBouton” créée précédemment.\n",
    "\n",
    "Chaque touche correspond à une lettre de\n",
    "l’alphabet (nous ne considérerons que les lettres majuscules). Il est donc nécessaire\n",
    "d’ajouter 26 instances de la classe “MonBouton” comme attribut de la classe\n",
    "“FenPrincipale”. Ces boutons pourront être regroupés dans la classe “FenPrincipale” au sein\n",
    "d’un attribut “boutons” de type liste d’objets “MonBouton”, les boutons étant créés par le\n",
    "constructeur de la classe “FenPrincipale”, comme tous les autres composants graphiques\n",
    "constituant la fenêtre principale. Afin de les identifier, le premier bouton dans la liste\n",
    "correspondra à la lettre “A”, le deuxième à la lettre “B”, ... et le dernier à la lettre “Z”."
   ]
  },
  {
   "cell_type": "markdown",
   "metadata": {},
   "source": [
    "Plutôt que de faire 26 fois le même traitement pour la création des boutons et l’ajout à\n",
    "l’attribut “boutons”, il est possible de le faire au sein d’une boucle à 26 itérations et d’utiliser\n",
    "le fait qu’un caractère est associé à un nombre entier correspondant à son code ASCII. Par\n",
    "exemple, le code suivant permet de créer une liste contenant les lettres de l’alphabet :"
   ]
  },
  {
   "cell_type": "raw",
   "metadata": {},
   "source": [
    "lettres = []\n",
    "for i in range(26):\n",
    "    lettres.append(chr(ord('A')+i))"
   ]
  },
  {
   "cell_type": "markdown",
   "metadata": {},
   "source": [
    "Une fois les boutons créés et ajoutés à l’attribut “boutons”, le constructeur de\n",
    "“FenPrincipale” devra se charger de l’affichage de ces touches du clavier virtuel. Pour cela, il\n",
    "est possible d’ajouter à “FenPrincipale” un objet “Frame” dans lequel les boutons seront\n",
    "disposés sur une grille en lignes et en colonnes en utilisant leur méthode “grid”. Par\n",
    "exemple, le code suivant permet d’ajouter le composant “bouton” à l’intersection de la\n",
    "deuxième ligne et de la troisième colonne dans la frame “f”:"
   ]
  },
  {
   "cell_type": "raw",
   "metadata": {},
   "source": [
    "class FenPrincipale(Tk):\n",
    "    ...\n",
    "    def __init__(self):\n",
    "        ...\n",
    "        f = Frame(self)\n",
    "        bouton = MonBouton(f,’texte’)\n",
    "        b.grid(row=1,column=2)"
   ]
  },
  {
   "cell_type": "markdown",
   "metadata": {},
   "source": [
    "#### 3. Ajout des boutons de contrôle de l’application"
   ]
  },
  {
   "cell_type": "markdown",
   "metadata": {},
   "source": [
    "La barre des boutons de contrôle de l’application est située dans la partie supérieur de la\n",
    "fenêtre principale. Deux boutons sont nécessaires : un bouton “Nouvelle partie” qui doit\n",
    "permettre d’initialiser une nouvelle partie et un bouton “Quitter” qui permet de fermer\n",
    "l’application. Ces boutons seront donc ajoutés à un objet “Frame” disposé dans la partie\n",
    "supérieure de “FenPrincipale”."
   ]
  },
  {
   "cell_type": "markdown",
   "metadata": {},
   "source": [
    "Le bouton “Quitter” doit permettre de fermer la fenêtre, et le bouton “Nouvelle partie” doit\n",
    "permettre de réaliser le nécessaire à l’initialisation d’une nouvelle partie (choix d’un\n",
    "nouveau mot, affichage de ce mot sous forme masquée, initialisation de la zone d’affichage\n",
    "du pendu et du clavier, ...).\n",
    "\n",
    "Tout ce traitement pourra être fait au sein d’une méthode\n",
    "appelée “nouvellePartie” de la classe “FenPrincipale” qui devra être exécutée lors d’un clic\n",
    "sur le bouton “Nouvelle Partie”. Cela peut par exemple être réalisé par le code suivant dans\n",
    "le constructeur de “FenPrincipale” :"
   ]
  },
  {
   "cell_type": "raw",
   "metadata": {},
   "source": [
    "f1 = Frame(self)\n",
    "f1.pack(side=TOP, padx=5, pady=5)\n",
    "self.__boutonNew = Button(f1, text ='Nouvelle partie', width=15, command =\n",
    "self.nouvellePartie).pack(side=LEFT, padx = 5,pady = 5)"
   ]
  },
  {
   "cell_type": "markdown",
   "metadata": {},
   "source": [
    "#### 4. Création de la zone d’affichage du mot à découvrir"
   ]
  },
  {
   "cell_type": "markdown",
   "metadata": {},
   "source": [
    "Le mot à découvrir peut être affiché à l’aide d’un objet “Label\". Par exemple, le code suivant\n",
    "permet de créer un objet “Label” dans le constructeur de “FenPrincipale” et de modifier le\n",
    "texte affiché en changeant la valeur de sa propriété “text” grâce à sa méthode “config” :"
   ]
  },
  {
   "cell_type": "raw",
   "metadata": {},
   "source": [
    "self.__lmot = Label(self)\n",
    "self.__lmot.pack(side=TOP)\n",
    "self.__lmot.config(text=’Bonjour’)"
   ]
  },
  {
   "cell_type": "markdown",
   "metadata": {},
   "source": [
    "Comme il sera nécessaire de modifier l’affichage du mot au cours du jeu, cet objet “Label”\n",
    "devra être ajouté comme attribut de la classe “FenPrincipale”."
   ]
  },
  {
   "cell_type": "markdown",
   "metadata": {},
   "source": [
    "### C. Gestion du clavier virtuel"
   ]
  },
  {
   "cell_type": "markdown",
   "metadata": {},
   "source": [
    "A chaque étape du jeu, le joueur clique sur une touche du clavier virtuel. Le traitement\n",
    "consiste alors à identifier la touche selectionnée et la lettre correspondant, puis à vérifier si\n",
    "cette lettre fait partie du mot. Si c’est le cas, le label “lmot” doit être réaffiché en y faisant\n",
    "apparaître en clair cette lettre, sinon un élément du pendu doit être ajouté.\n",
    "\n",
    "Il faut\n",
    "également tester si le jeu doit se terminer à cette étape sur un succès si toutes les lettres du\n",
    "mot ont été trouvées ou sur un échec si tous les éléments du pendu ont été affichés. De\n",
    "plus, la lettre qui a été sélectionnée doit être désactivée du clavier virtuel (cf les images de la\n",
    "figure 1)."
   ]
  },
  {
   "cell_type": "markdown",
   "metadata": {},
   "source": [
    "#### 1. Traitement des touches du clavier virtuel"
   ]
  },
  {
   "cell_type": "markdown",
   "metadata": {},
   "source": [
    "Afin de permettre le fonctionnement décrit ci-dessus, une solution consiste à ajouter à la\n",
    "classe “MonBouton” une méthode “cliquer” qui sera exécutée chaque fois que l’on cliquera\n",
    "sur le bouton, et dont le rôle sera de désactiver ce bouton (valeur “DISABLED” pour sa\n",
    "propriété “state” modifiée avec sa méthode “config”) puis de faire appel à la méthode\n",
    "“traitement” de la classe “FenPrincipale” en indiquant la lettre correspondant à ce bouton\n",
    "pour que l’on puisse savoir de quelle touche (ou lettre) il s’agit. La méthode “traitement”\n",
    "devra ensuite faire le traitement adapté."
   ]
  },
  {
   "cell_type": "markdown",
   "metadata": {},
   "source": [
    "Un bouton correspondant à une touche du clavier virtuel doit donc être en mesure de\n",
    "fournir la lettre à laquelle il est associé. Il faut donc que cette lettre soit un attribut de la\n",
    "classe “MonBouton” qui sera initialisé par le constructeur de cette classe. De plus, la\n",
    "méthode “cliquer” devant faire appel à la méthode “traitement” de l’objet “FenPrincipale”,\n",
    "celui-ci devra également être stocké comme un attribut de la classe “MonBouton”, initialisé\n",
    "par son contructeur."
   ]
  },
  {
   "cell_type": "markdown",
   "metadata": {},
   "source": [
    "Le code suivant (à placer dans le constructeur de la classe “FenPrincipale”) permet d’ajouter\n",
    "un bouton (disposé dans une Frame “f2”, de largeur “4” et dont le texte est la valeur de “t”)\n",
    "à la liste des boutons de “FenPrincipale” et d’associer le clic sur ce bouton à sa méthode\n",
    "“cliquer” :"
   ]
  },
  {
   "cell_type": "raw",
   "metadata": {},
   "source": [
    "self.__boutons.append(MonBouton(f2,self,t,4))\n",
    "self.__boutons[0].config(command=self.__boutons[0].cliquer)"
   ]
  },
  {
   "cell_type": "markdown",
   "metadata": {},
   "source": [
    "#### 2. Traitement dans la classe “FenPrincipale”"
   ]
  },
  {
   "cell_type": "markdown",
   "metadata": {},
   "source": [
    "La méthode “traitement” de la classe “FenPrincipale” est appelée à chaque fois que le joueur\n",
    "clique sur un bouton (ou touche) du clavier virtuel. L’argument de cette méthode est donc la\n",
    "lettre correspondant au bouton qui a fait cet appel."
   ]
  },
  {
   "cell_type": "markdown",
   "metadata": {},
   "source": [
    "L’objectif de la méthode “traitement” de la classe “FenPrincipale” est donc de vérifier si la\n",
    "lettre est contenue dans le mot à découvrir. Ce mot doit être un attribut de la classe\n",
    "“FenPrincipale” (mot). De plus, le mot à afficher doit être une version masquée du mot à\n",
    "découvrir, où les lettres identifiées par le joueur apparaîssent en clair et les autres lettres\n",
    "sont remplacées par le caractère “*”. Ce mot à afficher devra également être un attribut de\n",
    "la classe “FenPrincipale” (motAffiche)."
   ]
  },
  {
   "cell_type": "markdown",
   "metadata": {},
   "source": [
    "Le traitement consiste donc à parcourir l’objet “mot” et à vérifier si la lettre correspondant à\n",
    "la touche du clavier virtuelle sélectionnée en fait partie. Si c’est le cas, le caractère “*“ dans\n",
    "l’objet “motAffiche” doit être remplacé par cette lettre."
   ]
  },
  {
   "cell_type": "markdown",
   "metadata": {},
   "source": [
    "Si “motAffiche” a été modifié, il faut alors réafficher le texte du label “lmot” en utilisant ce\n",
    "mot:"
   ]
  },
  {
   "cell_type": "raw",
   "metadata": {},
   "source": [
    "self.__lmot.config(text='Mot : '+self.__motAffiche)"
   ]
  },
  {
   "cell_type": "markdown",
   "metadata": {},
   "source": [
    "Dans le cas contraire (la lettre sélectionnée ne fait pas partie du mot à découvrir), il faut\n",
    "afficher un élément supplémentaire du pendu. Une manière de faire consiste à ajouter à la\n",
    "classe “FenPrincipale” un attribut “nbManques” correspondant au nombre de coups\n",
    "manqués, et donc au nombre de parties du pendu à afficher.\n",
    "\n",
    "Cet attribut est incrémenté à\n",
    "chaque fois qu’une lettre sélectionnée n’appartient pas au mot à découvrir, puis est utilisé\n",
    "pour préciser à l’objet “zoneAffichage” développé lors de TD précédent le nombre de formes\n",
    "à afficher contenues dans son attribut “dessin”."
   ]
  },
  {
   "cell_type": "markdown",
   "metadata": {},
   "source": [
    "La méthode “traitement” doit ensuite déterminer si à ce stade la partie est terminée : soit\n",
    "toutes les lettres du mot ont été découvertes (dans ce cas “mot” est identique à\n",
    "“motAffiche”) soit le pendu est intégralement affiché (dans ce cas le nombre de coups\n",
    "manqués (valeur de “nbManques”) est égal au nombre d’éléments du pendu)."
   ]
  },
  {
   "cell_type": "markdown",
   "metadata": {},
   "source": [
    "Une méthode “finPartie” peut être ajoutée à la classe “FenPrincipale” pour réaliser le\n",
    "traitement correspondant à la fin d’une partie. Afin de distinguer le cas d’une victoire du cas\n",
    "d’une défaite, “finPartie” peut prendre un argument de type booléen qui sera égal à la\n",
    "valeur “True” en cas de victoire et “False” en cas de défaite."
   ]
  },
  {
   "cell_type": "markdown",
   "metadata": {},
   "source": [
    "### D. Gestion du début et de la fin d'une partie"
   ]
  },
  {
   "cell_type": "markdown",
   "metadata": {},
   "source": [
    "#### 1. Méthode “nouvellePartie”"
   ]
  },
  {
   "cell_type": "markdown",
   "metadata": {},
   "source": [
    "Cette méthode “nouvellePartie” doit donc réaliser :\n",
    "- l’initialisation de l’attribut “mot” (voir dans la section suivante)\n",
    "- l’initialisation de l’attribut “motAffiche” (constitué d’autant de caractères “*” que de\n",
    "lettres dans l’attribut “mot”)\n",
    "- l’affichage de “motAffiche” comme texte du label “lmot”\n",
    "- l’initialisation de l’attribut nbManques à 0\n",
    "- l’initialisation de la zone du dessin du pendu (aucune de ses parties ne doit être\n",
    "affichée)\n",
    "- l’activation de tous les boutons du clavier virtuel (valeur “normal” pour la propriété\n",
    "“state” du bouton, à modifier avec sa méthode “config”)"
   ]
  },
  {
   "cell_type": "markdown",
   "metadata": {},
   "source": [
    "#### 2. Méthode “finPartie”"
   ]
  },
  {
   "cell_type": "markdown",
   "metadata": {},
   "source": [
    "La méthode “finPartie” doit être appelée par la méthode “traitement” vue précédemment,\n",
    "toutes deux de la classe “FenPrincipale”. Comme cela a été vu dans la section C.2, “finPartie”\n",
    "dispose d’un argument booléen, égal à “True” si le jouer a gagné ou égal à “False” si le\n",
    "joueur a perdu."
   ]
  },
  {
   "cell_type": "markdown",
   "metadata": {},
   "source": [
    "La méthode “finPartie” doit donc réaliser :\n",
    "- la désactivation de toutes les touches du clavier virtuel\n",
    "- la modification du texte du label “lmot” pour afficher soit un message de félicitation\n",
    "en cas de victoire (image 4 de la figure 1) soit le mot complet en cas de défaite\n",
    "(image 3 de la figure 1)."
   ]
  },
  {
   "cell_type": "markdown",
   "metadata": {},
   "source": [
    "### E. Gestion du dictionnaire"
   ]
  },
  {
   "cell_type": "markdown",
   "metadata": {},
   "source": [
    "#### 1. Méthode “chargeMots”"
   ]
  },
  {
   "cell_type": "markdown",
   "metadata": {},
   "source": [
    "Afin d’avoir un vaste ensemble de mots à découvrir, vous pouvez utiliser le fichier “mots.txt”\n",
    "accompagnant le présent document sur le site pedagogie. Ce fichier contient 835 mots. Ces\n",
    "mots seront stockés au sein de l’application dans un attribut “mots” qui devra être ajouté à\n",
    "la classe “FenPrincipale”.\n",
    "\n",
    "Il s’agit d’une liste des chaînes de caractère. Cette liste devra être\n",
    "remplie dès le lancement de l’application. Il faut donc que le constructeur de la classe\n",
    "“FenPrincipale” fasse appel à une méthode que se chargera de remplir le vecteur “mots”\n",
    "avec les mots contenus dans le fichier “mots.txt”. Cette méthode pourra s’appeler\n",
    "“chargeMots”."
   ]
  },
  {
   "cell_type": "markdown",
   "metadata": {},
   "source": [
    "Par exemple, le code suivant permet d’ouvrir un fichier “toto.txt”, de stocker le contenu du\n",
    "fichier dans une chaîne de caractères, d’extraire de cette chaîne chaque ligne qui sera\n",
    "stockée dans une liste, puis de l’afficher."
   ]
  },
  {
   "cell_type": "raw",
   "metadata": {},
   "source": [
    "f = open('toto.txt','r')\n",
    "s = f.read()\n",
    "l = s.split('\\n')\n",
    "f.close()\n",
    "print(l)"
   ]
  },
  {
   "cell_type": "markdown",
   "metadata": {},
   "source": [
    "#### 2. Méthode “nouveauMot”"
   ]
  },
  {
   "cell_type": "markdown",
   "metadata": {},
   "source": [
    "Une fois le vecteur “mots” remplis à partir des mots présents dans le fichier “mots.txt”, un\n",
    "nouveau mot à découvrir doit être sélectionné. Ce traitement pourra être pris en charge par\n",
    "une méthode “nouveauMot” à ajouter à la classe “FenPrincipale”. Cette méthode devra\n",
    "renvoyer une chaîne de caractères qui sera stockée dans l’attribut “mot” de la classe\n",
    "“FenPrincipale”. Ainsi, “nouveauMot” sera appelée depuis la méthode “nouvellePartie”\n",
    "décrite précédemment."
   ]
  },
  {
   "cell_type": "markdown",
   "metadata": {},
   "source": [
    "Afin de ne pas sélectionner systématiquement le même mot, un tirage aléatoire peut être\n",
    "effectué. La fonction “randint” peut être utilisée pour cela. Par exemple, le code suivant\n",
    "permet d’obtenir des valeurs aléatoires entre 0 et 10 :"
   ]
  },
  {
   "cell_type": "raw",
   "metadata": {},
   "source": [
    "from random import randint\n",
    "nb = randint(0,10)\n",
    "print(nb)"
   ]
  },
  {
   "cell_type": "markdown",
   "metadata": {},
   "source": [
    "<center style=\"color:#c60; font-size:1.5em; margin:1.33em 0 3em;\">Notre travail</center>"
   ]
  },
  {
   "cell_type": "code",
   "execution_count": 3,
   "metadata": {
    "collapsed": true
   },
   "outputs": [],
   "source": [
    "#Je reprends la définition des classes des formes issus des TD précédents.\n",
    "\n",
    "class Forme:\n",
    "    def __init__(self,x,y,c):\n",
    "        self.__x=x\n",
    "        self.__y=y\n",
    "        self.__c=c\n",
    "        \n",
    "    def get_centre(self):\n",
    "        return self.__x, self.__y\n",
    "    \n",
    "    def get_couleur(self):\n",
    "        return self.__c\n",
    "    \n",
    "    def set_centre(self,x,y):\n",
    "        self.__x=x\n",
    "        self.__y=y\n",
    "    \n",
    "    def set_couleur(self,c):\n",
    "        self.__c=c\n",
    "        \n",
    "    def deplacement(self,dx,dy):\n",
    "        self.__x+=dx\n",
    "        self.__y+=dy\n",
    "        \n",
    "    def __str__(self):\n",
    "        name = self.__class__.__name__\n",
    "        model = '{} - centre : {} | dimensions : {} | couleur : {} | perimetre : {} | surface : {}'\n",
    "        return model.format(name,self.get_centre(), self.get_dim(), self.get_couleur(), self.perimetre(), self.surface())\n",
    "        \n",
    "\n",
    "class Cercle(Forme):\n",
    "    def __init__(self,x,y,d,c):\n",
    "        Forme.__init__(self,x,y,c)\n",
    "        self.__d=d\n",
    "    \n",
    "    def get_dim(self):\n",
    "        return self.__d\n",
    "    \n",
    "    def set_dim(self,d):\n",
    "        self.__d=d\n",
    "    \n",
    "    def perimetre(self):\n",
    "        return pi*self.__d\n",
    "    \n",
    "    def surface(self):\n",
    "        return self.__d**2*pi/4\n",
    "    \n",
    "    def voir_plt(self,plt):\n",
    "        x,y=self.get_centre()\n",
    "        d=self.__d\n",
    "        t=linspace(0,2*pi,100)\n",
    "        X=[x+d/2*cos(alpha) for alpha in t]\n",
    "        Y=[y+d/2*sin(alpha) for alpha in t]\n",
    "        plt.plot(X,Y,self.get_couleur())\n",
    "        \n",
    "    def voir(self,zoneAffichage):\n",
    "        x,y=self.get_centre()\n",
    "        d=self.__d\n",
    "        r=d//2\n",
    "        zoneAffichage.create_oval(x-r, y-r, x+r, y+r, outline=self.get_couleur(),fill=self.get_couleur())\n",
    "        \n",
    "    def selection(self,x,y):\n",
    "        xc,yc=self.get_centre()\n",
    "        r=self.__d//2\n",
    "        return (x-xc)**2+(y-yc)**2<=r**2\n",
    "\n",
    "    \n",
    "class Rectangle(Forme):\n",
    "    def __init__(self,x,y,l,h,c):\n",
    "        Forme.__init__(self,x,y,c)\n",
    "        self.__l=l\n",
    "        self.__h=h\n",
    "    \n",
    "    def get_dim(self):\n",
    "        return self.__l, self.__h\n",
    "    \n",
    "    def set_dim(self,l,h):\n",
    "        self.__l=l\n",
    "        self.__h=h\n",
    "    \n",
    "    def perimetre(self):\n",
    "        return 2*(self.__h+self.__l)\n",
    "    \n",
    "    def surface(self):\n",
    "        return self.__l*self.__h\n",
    "    \n",
    "    def voir_plt(self,plt):\n",
    "        l=self.__l\n",
    "        h=self.__h\n",
    "        x,y=self.get_centre()\n",
    "        X=[x-l/2,x+l/2,x+l/2,x-l/2,x-l/2]\n",
    "        Y=[y+h/2,y+h/2,y-h/2,y-h/2,y+h/2]\n",
    "        plt.plot(X,Y,self.get_couleur())\n",
    "        \n",
    "    def voir(self,zoneAffichage):\n",
    "        l=self.__l\n",
    "        h=self.__h\n",
    "        x,y=self.get_centre()\n",
    "        zoneAffichage.create_rectangle(x-l//2, y-h//2, x+l//2, y+h//2, outline=self.get_couleur(), fill=self.get_couleur())\n",
    "        \n",
    "    def selection(self,x,y):\n",
    "        xc,yc=self.get_centre()\n",
    "        l=self.__l\n",
    "        h=self.__h\n",
    "        return x<=xc+l//2 and x>=xc-l//2 and y<=yc+h//2 and y>=yc-h//2\n",
    "        \n",
    "class Carre(Rectangle):\n",
    "    def __init__(self,x,y,l,c):\n",
    "        Rectangle.__init__(self,x,y,l,l,c)\n",
    "        \n",
    "    def get_dim(self):\n",
    "        l,l=Rectangle.get_dim(self)\n",
    "        return l\n",
    "    \n",
    "    def set_dim(self,l):\n",
    "        Rectangle.set_dim(self,l,l)\n",
    "        \n",
    "        \n",
    "class Dessin:\n",
    "    \n",
    "    def __init__(self):\n",
    "        self.__formes = []\n",
    "\n",
    "    def ajoute_forme(self,f):\n",
    "        self.__formes.append(f)\n",
    "        \n",
    "    def retire_forme(self):\n",
    "        self.__formes.pop()\n",
    "        \n",
    "    def longueur(self):\n",
    "        return len(self.__formes)\n",
    "        \n",
    "    def dessine(self,zoneAffichage,n): #Cette fonction affiche les n premières formes de la liste\n",
    "        if n > 0 and n <= len(self.__formes):\n",
    "            for ind in range(0,n):\n",
    "                self.__formes[ind].voir(zoneAffichage)\n",
    "            \n",
    "    def selection_formes(self,x,y):\n",
    "        for forme in self.__formes:\n",
    "            if forme.selection(x,y):\n",
    "                showinfo('Forme sélectionnée',forme.__str__())\n",
    "        \n",
    "    def __str__(self):\n",
    "        return \"\\n\".join([f.__str__() for f in self.__formes])"
   ]
  },
  {
   "cell_type": "markdown",
   "metadata": {},
   "source": [
    "Le but de ce TD est de réaliser un jeu du pendu dans une fenêtre externe. Le but du pendu est de proposer des lettres pour tenter de deviner un mot dont on connait la longueur. Une fois la lettre proposée, on ne peut plus la proposer (ce qui n'aurait pas d'intérêt mais pourrait faire perdre l'utilisateur s'il proposait trop de fois une mauvaise lettre). Le nombre de lettres proposées ne peut pas dépasser 10, auquel cas le personnage est pendu et la partie est perdue. Pour cela, il faut construire les différents éléments de la fenêtre qui se décomposent en : les boutons Nouvelle Partie/Quitter en haut, l'avancée du pendu au centre, le mot à deviner et les différentes étapes de détermination du mot et enfin, en bas de la fenêtre le clavier pour sélectionner les lettres. "
   ]
  },
  {
   "cell_type": "markdown",
   "metadata": {},
   "source": [
    "On crée une classe MonBouton qui permet de créer les différentes touches du clavier. Ces touches sont associées chacune à une lettre et à une action cliquer qui permet de les désactiver lorsqu'on clique dessus. La classe FenPrincipale permet de créer la zone d'affichage de la fenêtre en ajoutant un titre, le mot à faire deviner, le mot à afficher, les dessins pour le afficher le pendu, les boutons du clavier. La classe ZoneAffiche permet de définir la zone où l'on affiche les parties du pendu. La classe Dessin (et les classes du TD précédent non représentées) regroupe les formes utiles pour dessiner les parties du pendu (cercle, rectangle)."
   ]
  },
  {
   "cell_type": "markdown",
   "metadata": {},
   "source": [
    "<img src=\"diagrammedeclasses.png\">"
   ]
  },
  {
   "cell_type": "code",
   "execution_count": 23,
   "metadata": {
    "collapsed": false
   },
   "outputs": [],
   "source": [
    "from tkinter import *\n",
    "from tkinter.messagebox import * # boîte de dialogue\n",
    "from random import randint\n",
    "\n",
    "\n",
    "class MonBouton(Button):  #La classe MonBouton est la classe de base pour les lettres du clavier\n",
    "    def __init__(self, frame, lettre, callback):   \n",
    "        Button.__init__(self, frame,text=lettre,command=self.cliquer)  #Chaque bouton possède une lettre, une commande cliquer\n",
    "        self.__lettre = lettre \n",
    "        self.traitement = callback  #et un traitement (voir suite)\n",
    "        \n",
    "    def cliquer(self):\n",
    "        self.config(state=DISABLED)  #La commande cliquer passe le bouton en DISABLED pour signifier que la lettre a déjà été cliquée et elle devient alors inactive\n",
    "        self.traitement(self.__lettre) #On effectue le traitement correspondant à la lettre du bouton cliqué\n",
    "    \n",
    "            \n",
    "\n",
    "class ZoneAffichage(Canvas):  #La classe ZoneAffichage permet de déterminer les caractéristiques du Canvas\n",
    "    def __init__(self,parent, w, h, c):\n",
    "        Canvas.__init__(self, width = w, height = h, bg = c)  #On définit la taille initiale du canvas\n",
    "        \n",
    "    def afficher(self, dessin, n):\n",
    "        \"\"\"Affiche les formes dans la zone d'affichage \"\"\"\n",
    "        dessin.dessine(self, n)\n",
    "        \n",
    "        \n",
    "            \n",
    "class FenPrincipale(Tk): #La classe FenPrincipale permet de définir les éléments de la fenêtre du jeu \n",
    "    def __init__(self):\n",
    "        Tk.__init__(self)\n",
    "        self.title('Jeu du Pendu')  #On initialise le titre\n",
    "        self.__mots=self.chargeMots()  #On charge les mots du fichier txt\n",
    "        self.__mot=self.nouveauMot()  #On charge un nouveau mot à faire deviner dans mot\n",
    "        self.__motAffiche='' #On intialise motAffiche au mot vide\n",
    "        for i in range(len(self.__mot)):\n",
    "            self.__motAffiche+='*'  #On met autant de * dans motAffiche que de lettres dans mot\n",
    "        self.__nbManques=0  #On initialise le nombre de lettres fausses à 0 \n",
    "        \n",
    "        #Enregistrement des formes nécessaires pour afficher le pendu\n",
    "        self.__dessin=Dessin()\n",
    "        self.__dessin.ajoute_forme(Rectangle(100,280,120,6,'black'))\n",
    "        self.__dessin.ajoute_forme(Rectangle(100,170,6,220,'black'))\n",
    "        self.__dessin.ajoute_forme(Rectangle(161,63,116,6,'black'))\n",
    "        self.__dessin.ajoute_forme(Rectangle(220,85,4,50,'black'))\n",
    "        self.__dessin.ajoute_forme(Cercle(220,110,22,'black'))\n",
    "        self.__dessin.ajoute_forme(Rectangle(220,150,40,60,'black'))\n",
    "        self.__dessin.ajoute_forme(Rectangle(175,125,50,10,'black'))\n",
    "        self.__dessin.ajoute_forme(Rectangle(265,125,50,10,'black'))\n",
    "        self.__dessin.ajoute_forme(Rectangle(207,210,14,60,'black'))\n",
    "        self.__dessin.ajoute_forme(Rectangle(233,210,14,60,'black'))\n",
    "        \n",
    "        \n",
    "        \n",
    "        #Création du menu supérieur\n",
    "        self.__f1 = Frame(self)\n",
    "        self.__f1.pack(side=TOP, padx=5, pady=5)\n",
    "        self.__boutonNew=Button(self.__f1,text='Nouvelle partie',width=15,command=self.nouvellePartie).pack(side=LEFT,padx=5,pady=5) #Bouton Nouvelle Partie\n",
    "        self.__boutonQuitter = Button(self.__f1,text='Quitter',width=15,command=self.destroy).pack(side=LEFT,padx=5,pady=5)  #Bouton Quitter\n",
    "        \n",
    "        #Création de la zone de dessin du pendu\n",
    "        self.__zoneAffichage = ZoneAffichage(self,320,320,'white')\n",
    "        self.__zoneAffichage.pack(side=TOP, padx=5, pady=5)\n",
    "        #self.__dessin=Dessin()\n",
    "        \n",
    "        #Création de la zone de texte\n",
    "        self.__lmot = Label(self)\n",
    "        self.__lmot.pack(side=TOP, padx=5, pady=5)\n",
    "        self.__lmot.config(text=self.__motAffiche)\n",
    "        \n",
    "        #Création du clavier\n",
    "        self.__boutons=[] #On crée une liste de boutons\n",
    "        self.__f=Frame(self)\n",
    "        self.__f.pack(side=TOP, padx=5, pady=5)\n",
    "        for i in range (26):\n",
    "            carac=chr(ord('A')+i)  #A chaque bouton on associe une lettre en utilisant le codage ASCII (pour passer à la lettre suivant, il suffit d'ajouter 1)\n",
    "            bouton=MonBouton(self.__f,carac, self.traitement) #On crée les boutons correspondants à chaque lettre\n",
    "            self.__boutons.append(bouton) #On ajoute le bouton crée à la liste des boutons\n",
    "            bouton.grid(row=i//13,column=i%13)  #On place les boutons sur une grille \n",
    "            \n",
    "    def traitement(self, lettre):\n",
    "        tmp=False  #Variable locale qui renvoie True si l'utilisateur a trouvé une lettre du mot\n",
    "        mottmp=''  #Mot local qui donne le mot modifié à chaque étape (ou non) en dévoilant les lettres trouvées par l'utilisateur\n",
    "        for i in range(len(self.__mot)):  #Sur toute la longueur du mot...\n",
    "            if self.__mot[i]==lettre: #Si la lettre proposée par le traitement du bouton est contenue dans le mot\n",
    "                tmp=True  #tmp marque que l'utilisateur a trouvé une lettre\n",
    "                mottmp+=lettre #On ajoute au mot temporaire la lettre trouvée\n",
    "            else:\n",
    "                mottmp+=self.__motAffiche[i] #Sinon, on ajoute au mot temporaire un caractère *\n",
    "                \"\"\"Cette étape permet donc de remplacer les * par la lettre trouvée par l'utilisateur\"\"\"\n",
    "        self.__motAffiche=mottmp #Le mot affiché est désormais mottmp\n",
    "        self.__lmot.config(text=self.__motAffiche)\n",
    "        if tmp==False: #La lettre proposée n'appartient pas au mot\n",
    "            self.__nbManques+=1 #On ajoute 1 aux nombre de lettres fausses\n",
    "            self.__zoneAffichage.afficher(self.__dessin,self.__nbManques) #On affiche un bout du pendu correspondant au nombre de lettres fausses\n",
    "            \n",
    "        if self.__mot==self.__motAffiche:  #Si le mot affiché est le même que le mot de départ\n",
    "            self.finPartie(True) #La partie est gagnée !\n",
    "            \n",
    "        if self.__nbManques==self.__dessin.longueur(): #Si le nombre de lettres fausses correspond à la longueur max des dessins\n",
    "            self.finPartie(False) #La partie est perdue\n",
    "        \n",
    "        \n",
    "    def finPartie(self,fin):\n",
    "        if fin: #Victoire\n",
    "            self.__lmot.config(text=self.__motAffiche + '- Bravo, vous avez gagné !') #On affiche un petit texte avec le mot trouvé\n",
    "            \n",
    "        else: #Défaite\n",
    "            self.__lmot.config(text='Vous avez perdu. Le mot était : ' + self.__mot) #De même avec le mot non trouvé\n",
    "            \n",
    "        for bouton in self.__boutons: #Désactivation du clavier\n",
    "            bouton.config(state=DISABLED)\n",
    "            \n",
    "    \n",
    "    def nouvellePartie(self): #Création d'une nouvelle partie\n",
    "        self.__mot=self.nouveauMot()  #On charge un nouveau mot\n",
    "        self.__motAffiche='' #On initialise motAffihe au mot vide\n",
    "        for i in range(len(self.__mot)):\n",
    "            self.__motAffiche+='*' #On remplace les lettres de mot par des * dans motAffiche\n",
    "        self.__nbManques=0  #On initialise le nombre de lettres fausses à 0\n",
    "        self.__lmot.config(text=self.__motAffiche)  #On affiche motAffiche dans la zone au-dessus du clavier\n",
    "        self.__zoneAffichage.delete(ALL)\n",
    "        for bouton in self.__boutons: #Activation du clavier\n",
    "            bouton.config(state=NORMAL)\n",
    "            \n",
    "    def chargeMots(self):  #Chargement des mots du fichier txt\n",
    "        f = open('mots.txt','r')\n",
    "        s = f.read()\n",
    "        l = s.split('\\n')\n",
    "        f.close()\n",
    "        return l  #l contient la liste des mots du fichier txt\n",
    "    \n",
    "    def nouveauMot(self):\n",
    "        nb=randint(0,834) #On choisit un entier entre 0 et 834\n",
    "        mot=self.__mots[nb] #On choisit parmi la liste des mots du fichier txt un élément grâce à son indice dans la liste\n",
    "        return mot\n",
    "    \n",
    "\n",
    "    def effacer(self):\n",
    "        \"\"\" Efface la zone graphique \"\"\"\n",
    "        self.__zoneAffichage.delete(ALL)\n",
    "        #self.__dessin=Dessin()\n",
    "\n",
    "# Création de la fenêtre principale\n",
    "fen = FenPrincipale()\n",
    "fen.mainloop()"
   ]
  },
  {
   "cell_type": "markdown",
   "metadata": {},
   "source": [
    "<img src=\"debut.png\"> \n",
    "<center> Au début de la partie, toutes les lettres sont activées et le mot est complètement masqué.\n",
    "</br>\n",
    "<img src=\"encours.png\">\n",
    "<center>En cours de partie, le mot commence à être dévoilé, les lettres proposées sont désactivées et les morceaux du pendu apparaissent au fur et à mesure des erreurs. "
   ]
  },
  {
   "cell_type": "markdown",
   "metadata": {},
   "source": [
    "<center>En fin de partie, il y a deux cas possibles : la victoire ou la défaite.\n",
    "<img src=\"victoire.png\">\n",
    "<center>En cas de victoire, le mot a été trouvé, le jeu affiche : Bravo, vous avez gagné !\n",
    "<img src=\"defaite.png\"> \n",
    "<center>En cas de défaite, le mot n'a pas été trouvé, le jeu affiche le mot qu'il fallait trouver ainsi que le message de défaite."
   ]
  },
  {
   "cell_type": "markdown",
   "metadata": {},
   "source": [
    "### F. Aller plus loin..."
   ]
  },
  {
   "cell_type": "markdown",
   "metadata": {},
   "source": [
    "Pour ceux qui veulent aller plus loin, les améliorations OPTIONNELLES suivantes de\n",
    "l’application “Jeu du Pendu” peuvent être envisagées :"
   ]
  },
  {
   "cell_type": "markdown",
   "metadata": {},
   "source": [
    "#### 1. Gestion des scores pour les joueurs"
   ]
  },
  {
   "cell_type": "markdown",
   "metadata": {},
   "source": [
    "__Indication__ : Créer une classe “Joueur” avec un attribut “nom” et un attribut “scores” qui un\n",
    "est un vecteur de nombres entiers. Ajouter un attribut “joueurs” à la classe “FenPrincipale”\n",
    "correspondant à une liste d’instances de la classe “Joueur”. Ajouter dans la fenêtre\n",
    "principale une zone où le joueur peut préciser son nom, et prévoir l’affichage des scores des\n",
    "joueurs dans une fenêtre supplémentaire."
   ]
  },
  {
   "cell_type": "markdown",
   "metadata": {},
   "source": [
    "#### 2. Afficher des images du pendu"
   ]
  },
  {
   "cell_type": "markdown",
   "metadata": {},
   "source": [
    "Plutôt que d’afficher le pendu comme un dessin dont les formes s’affichent au fur et à\n",
    "mesure des échecs de l’utilisateur, plusieurs images pourraient être utilisées pour\n",
    "représenter les différents états du pendu, et à chaque étape, l’image correspondant au\n",
    "nombre d’échecs du joueur est affichée."
   ]
  },
  {
   "cell_type": "markdown",
   "metadata": {},
   "source": [
    "__Indication__ : le code suivant permet d’afficher dans un canevas l’image “pendu.png”:"
   ]
  },
  {
   "cell_type": "code",
   "execution_count": null,
   "metadata": {
    "collapsed": true
   },
   "outputs": [],
   "source": [
    "from tkinter import *\n",
    "fenetre = Tk()\n",
    "fenetre.title('Image')\n",
    "\n",
    "canevas = Canvas(fenetre)\n",
    "canevas.pack()\n",
    "\n",
    "nomImage = 'pendu.png'\n",
    "photo = PhotoImage(file=nomImage)\n",
    "\n",
    "canevas.create_image(0,0, anchor=NW, image=photo)\n",
    "canevas.config(height=photo.height(),width=photo.width())\n",
    "\n",
    "fenetre.mainloop()"
   ]
  },
  {
   "cell_type": "markdown",
   "metadata": {},
   "source": [
    "#### 3. A vous d’imaginer d’autres améliorations..."
   ]
  },
  {
   "cell_type": "markdown",
   "metadata": {},
   "source": [
    "### G. Travail à rendre"
   ]
  },
  {
   "cell_type": "markdown",
   "metadata": {},
   "source": [
    "Ce travail doit être fini dans les deux semaines ouvrables suivant la séance de TD."
   ]
  },
  {
   "cell_type": "markdown",
   "metadata": {},
   "source": [
    "Une archive électronique devra être créée puis déposée sur le site « pedagogie ». Cette\n",
    "archive nommée « eleve1-eleve2.zip » doit contenir :\n",
    "- Le <span style=\"color:green\">fichier .ipynb _(notebook ipython)_</span> avec :\n",
    "  - en haut de page vos noms, le numéro du groupe de TD, le nom de l’enseignant et le titre du TD,\n",
    "  - le texte du compte-rendu comprenant :\n",
    "    - une présentation du problème,\n",
    "    - les choix de modélisation et le diagramme de classes UML ;\n",
    "  - les codes source de l'application,\n",
    "  - les traces d’exécution commentées pour chaque validation intermédiaire des classes, ainsi que pour la validation de l’application finale ;\n",
    "- les éventuelles images référencées depuis le notebook,\n",
    "- les fichier python \".py\" dans le cas où vous feriez référence à des modules extérieurs au notebook.\n"
   ]
  },
  {
   "cell_type": "markdown",
   "metadata": {},
   "source": [
    "__ATTENTION__ : si vous avez ajouté des fonctionnalités optionnelles à votre application (voir\n",
    "section F.), deux versions de votre programme doivent être rendues : la version\n",
    "correspondant à la partie obligatoire et la version enrichie."
   ]
  }
 ],
 "metadata": {
  "kernelspec": {
   "display_name": "Python 3",
   "language": "python",
   "name": "python3"
  },
  "language_info": {
   "codemirror_mode": {
    "name": "ipython",
    "version": 3
   },
   "file_extension": ".py",
   "mimetype": "text/x-python",
   "name": "python",
   "nbconvert_exporter": "python",
   "pygments_lexer": "ipython3",
   "version": "3.5.1"
  }
 },
 "nbformat": 4,
 "nbformat_minor": 0
}
