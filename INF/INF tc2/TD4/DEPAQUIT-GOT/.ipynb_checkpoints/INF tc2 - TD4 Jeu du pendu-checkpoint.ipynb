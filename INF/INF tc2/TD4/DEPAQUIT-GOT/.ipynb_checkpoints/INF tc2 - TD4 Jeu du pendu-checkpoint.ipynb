{
 "cells": [
  {
   "cell_type": "markdown",
   "metadata": {},
   "source": [
    "#  <center>Informatique tc2 (Conception et programmation objet) - TD4</center>"
   ]
  },
  {
   "cell_type": "markdown",
   "metadata": {},
   "source": [
    "## <center style=\"color: #66d\">Jeu du pendu</center>"
   ]
  },
  {
   "cell_type": "markdown",
   "metadata": {},
   "source": [
    "### A. Objectif du TD"
   ]
  },
  {
   "cell_type": "markdown",
   "metadata": {},
   "source": [
    "L’objectif de ce TD est de réaliser une application “Jeu du Pendu”. Pour rappel, le jeu du\n",
    "Pendu consiste à essayer de découvrir un mot qui est affiché de manière masquée (chacune\n",
    "de ses lettres est remplacée par le caractère “*”).\n",
    "\n",
    "Pour cela, le joueur sélectionne une lettre\n",
    "à chaque étape. Si cette lettre fait partie du mot, alors le mot à découvrir est réaffiché avec\n",
    "cette lettre en clair. Si par contre le mot ne contient pas la lettre alors un élément du pendu\n",
    "est ajouté. Le joueur gagne s’il a pu découvrir le mot avant que le pendu n’ait été\n",
    "complètement affiché (10 coups manqués).\n",
    "\n",
    "Quelques étapes du déroulement du jeu sont\n",
    "présentées dans la figure suivante."
   ]
  },
  {
   "cell_type": "markdown",
   "metadata": {},
   "source": [
    "<img src=\"fig1.png\">\n",
    "<br>\n",
    "<img src=\"fig2.png\">"
   ]
  },
  {
   "cell_type": "markdown",
   "metadata": {},
   "source": [
    "<center>__Figure 1 – Quelques étapes du déroulement du jeu du pendu__</center>"
   ]
  },
  {
   "cell_type": "markdown",
   "metadata": {},
   "source": [
    "Lors du commencement d’une nouvelle partie, aucun élément du pendu n’est affiché et le\n",
    "mot à découvrir est complèment masqué (première image). Après un certain nombre\n",
    "d’essais, certaintes lettres du mot ont été découvertes et d’autres coups manqués ont mené\n",
    "à l’affichage d’éléments du pendu (deuxième image). Au fur et à mesure que les lettres sont\n",
    "sélectionnées par le joueur, celles-ci sont désactivées sur le clavier virtuel afin d’éviter\n",
    "qu’elles ne soient choisies à plusieurs reprises."
   ]
  },
  {
   "cell_type": "markdown",
   "metadata": {},
   "source": [
    "La troisième image correspond à une situation où le joueur a perdu car l’ensemble des\n",
    "lettres constituant le mot n’a pas été découvert avant l’affichage complet du pendu. La\n",
    "quatrième image correspond à une victoire du joueur."
   ]
  },
  {
   "cell_type": "markdown",
   "metadata": {},
   "source": [
    "### B. Mise en place de le fenêtre principale"
   ]
  },
  {
   "cell_type": "markdown",
   "metadata": {},
   "source": [
    "Lors du TD précédent, une interface a été réalisée permettant l’affichage d’une zone de\n",
    "boutons de contrôle de l’application et une zone d’affichage de formes géométriques. Nous\n",
    "allons dans ce TD compléter cette interface pour afficher le mot à découvrir et le clavier\n",
    "virtuel permettant au joueur de sélectionner les lettres afin de deviner le mot."
   ]
  },
  {
   "cell_type": "markdown",
   "metadata": {},
   "source": [
    "#### 1. Création d’une nouvelle classe de boutons pour le clavier virtuel"
   ]
  },
  {
   "cell_type": "markdown",
   "metadata": {},
   "source": [
    "Nous allons créer une nouvelle classe correspondant aux touches du clavier virtuel. Il s’agit\n",
    "ici de boutons que nous devons adapter à nos besoins. Cette classe, nommée “MonBouton”\n",
    "par exemple devra donc hériter de la classe Tkinter “Button”. Nous complèterons cette\n",
    "classe par la suite pour lui ajouter les fonctionnalités nécessaires à notre application."
   ]
  },
  {
   "cell_type": "markdown",
   "metadata": {},
   "source": [
    "#### 2. Ajout du clavier virtuel à la fenêtre principale"
   ]
  },
  {
   "cell_type": "markdown",
   "metadata": {},
   "source": [
    "La fenêtre principale correspond à la classe “FenPrincipale” créée lors du TD précédent.\n",
    "Nous allons ici la compléter pour permettre le déroulement du jeu du Pendu. En particulier,\n",
    "nous avons besoin d’un clavier virtuel contenant des touches qui sont en fait des instances\n",
    "de la classe “MonBouton” créée précédemment.\n",
    "\n",
    "Chaque touche correspond à une lettre de\n",
    "l’alphabet (nous ne considérerons que les lettres majuscules). Il est donc nécessaire\n",
    "d’ajouter 26 instances de la classe “MonBouton” comme attribut de la classe\n",
    "“FenPrincipale”. Ces boutons pourront être regroupés dans la classe “FenPrincipale” au sein\n",
    "d’un attribut “boutons” de type liste d’objets “MonBouton”, les boutons étant créés par le\n",
    "constructeur de la classe “FenPrincipale”, comme tous les autres composants graphiques\n",
    "constituant la fenêtre principale. Afin de les identifier, le premier bouton dans la liste\n",
    "correspondra à la lettre “A”, le deuxième à la lettre “B”, ... et le dernier à la lettre “Z”."
   ]
  },
  {
   "cell_type": "markdown",
   "metadata": {},
   "source": [
    "Plutôt que de faire 26 fois le même traitement pour la création des boutons et l’ajout à\n",
    "l’attribut “boutons”, il est possible de le faire au sein d’une boucle à 26 itérations et d’utiliser\n",
    "le fait qu’un caractère est associé à un nombre entier correspondant à son code ASCII. Par\n",
    "exemple, le code suivant permet de créer une liste contenant les lettres de l’alphabet :"
   ]
  },
  {
   "cell_type": "raw",
   "metadata": {},
   "source": [
    "lettres = []\n",
    "for i in range(26):\n",
    "    lettres.append(chr(ord('A')+i))"
   ]
  },
  {
   "cell_type": "code",
   "execution_count": 2,
   "metadata": {
    "collapsed": true
   },
   "outputs": [],
   "source": [
    "class FenPrincipale(Tk):\n",
    "    def __init__(self):\n",
    "        Tk.__init__(self)\n",
    "        self.title('Pendu')\n",
    "        self.__zoneAffichage = ZoneAffichage(self,400,500,'white')\n",
    "        \n",
    "        lettres=[]\n",
    "        for i in range(26):\n",
    "            lettres.append(chr(ord('A')+i))\n",
    "        \n",
    "        for i in lettres:\n",
    "            self.bouton_i=MonBouton(self,i,self.cliquer)\n",
    "        \n",
    "        \n",
    "        # La méthode bind() permet de lier un événement avec une fonction :\n",
    "\n",
    "        self.__boutons(self) \n",
    "        # un clic gauche sur la zone graphique provoquera l'appel de la fonction utilisateur cliquer()\n",
    "        self.__zoneAffichage.bind('<Button-1>',self.cliquer)\n",
    "        self.__zoneAffichage.pack(padx=5, pady=5)\n",
    "        \n",
    "        # Création d'un widget Button (bouton Effacer)\n",
    "        self.__boutonEffacer = Button(self,text='Effacer',command=self.effacer).pack(side=LEFT,padx=5,pady=5)\n",
    "\n",
    "        # Création d'un widget Button (bouton Quitter)\n",
    "        self.__boutonQuitter = Button(self,text='Quitter',command=self.destroy).pack(side=LEFT,padx=5,pady=5)"
   ]
  },
  {
   "cell_type": "markdown",
   "metadata": {},
   "source": [
    "Une fois les boutons créés et ajoutés à l’attribut “boutons”, le constructeur de\n",
    "“FenPrincipale” devra se charger de l’affichage de ces touches du clavier virtuel. Pour cela, il\n",
    "est possible d’ajouter à “FenPrincipale” un objet “Frame” dans lequel les boutons seront\n",
    "disposés sur une grille en lignes et en colonnes en utilisant leur méthode “grid”. Par\n",
    "exemple, le code suivant permet d’ajouter le composant “bouton” à l’intersection de la\n",
    "deuxième ligne et de la troisième colonne dans la frame “f”:"
   ]
  },
  {
   "cell_type": "raw",
   "metadata": {},
   "source": [
    "class FenPrincipale(Tk):\n",
    "    ...\n",
    "    def __init__(self):\n",
    "        ...\n",
    "        f = Frame(self)\n",
    "        bouton = MonBouton(f,’texte’)\n",
    "        bouton.grid(row=1,column=2)"
   ]
  },
  {
   "cell_type": "markdown",
   "metadata": {},
   "source": [
    "#### 3. Ajout des boutons de contrôle de l’application"
   ]
  },
  {
   "cell_type": "markdown",
   "metadata": {},
   "source": [
    "La barre des boutons de contrôle de l’application est située dans la partie supérieur de la\n",
    "fenêtre principale. Deux boutons sont nécessaires : un bouton “Nouvelle partie” qui doit\n",
    "permettre d’initialiser une nouvelle partie et un bouton “Quitter” qui permet de fermer\n",
    "l’application. Ces boutons seront donc ajoutés à un objet “Frame” disposé dans la partie\n",
    "supérieure de “FenPrincipale”."
   ]
  },
  {
   "cell_type": "markdown",
   "metadata": {},
   "source": [
    "Le bouton “Quitter” doit permettre de fermer la fenêtre, et le bouton “Nouvelle partie” doit\n",
    "permettre de réaliser le nécessaire à l’initialisation d’une nouvelle partie (choix d’un\n",
    "nouveau mot, affichage de ce mot sous forme masquée, initialisation de la zone d’affichage\n",
    "du pendu et du clavier, ...).\n",
    "\n",
    "Tout ce traitement pourra être fait au sein d’une méthode\n",
    "appelée “nouvellePartie” de la classe “FenPrincipale” qui devra être exécutée lors d’un clic\n",
    "sur le bouton “Nouvelle Partie”. Cela peut par exemple être réalisé par le code suivant dans\n",
    "le constructeur de “FenPrincipale” :"
   ]
  },
  {
   "cell_type": "raw",
   "metadata": {},
   "source": [
    "f1 = Frame(self)\n",
    "f1.pack(side=TOP, padx=5, pady=5)\n",
    "self.__boutonNew = Button(f1, text ='Nouvelle partie', width=15, command =\n",
    "self.nouvellePartie).pack(side=LEFT, padx = 5,pady = 5)"
   ]
  },
  {
   "cell_type": "markdown",
   "metadata": {},
   "source": [
    "#### 4. Création de la zone d’affichage du mot à découvrir"
   ]
  },
  {
   "cell_type": "markdown",
   "metadata": {},
   "source": [
    "Le mot à découvrir peut être affiché à l’aide d’un objet “Label\". Par exemple, le code suivant\n",
    "permet de créer un objet “Label” dans le constructeur de “FenPrincipale” et de modifier le\n",
    "texte affiché en changeant la valeur de sa propriété “text” grâce à sa méthode “config” :"
   ]
  },
  {
   "cell_type": "raw",
   "metadata": {},
   "source": [
    "self.__lmot = Label(self)\n",
    "self.__lmot.pack(side=TOP)\n",
    "self.__lmot.config(text=’Bonjour’)"
   ]
  },
  {
   "cell_type": "markdown",
   "metadata": {},
   "source": [
    "Comme il sera nécessaire de modifier l’affichage du mot au cours du jeu, cet objet “Label”\n",
    "devra être ajouté comme attribut de la classe “FenPrincipale”."
   ]
  },
  {
   "cell_type": "markdown",
   "metadata": {},
   "source": [
    "### C. Gestion du clavier virtuel"
   ]
  },
  {
   "cell_type": "markdown",
   "metadata": {},
   "source": [
    "A chaque étape du jeu, le joueur clique sur une touche du clavier virtuel. Le traitement\n",
    "consiste alors à identifier la touche selectionnée et la lettre correspondant, puis à vérifier si\n",
    "cette lettre fait partie du mot. Si c’est le cas, le label “lmot” doit être réaffiché en y faisant\n",
    "apparaître en clair cette lettre, sinon un élément du pendu doit être ajouté.\n",
    "\n",
    "Il faut\n",
    "également tester si le jeu doit se terminer à cette étape sur un succès si toutes les lettres du\n",
    "mot ont été trouvées ou sur un échec si tous les éléments du pendu ont été affichés. De\n",
    "plus, la lettre qui a été sélectionnée doit être désactivée du clavier virtuel (cf les images de la\n",
    "figure 1)."
   ]
  },
  {
   "cell_type": "markdown",
   "metadata": {},
   "source": [
    "#### 1. Traitement des touches du clavier virtuel"
   ]
  },
  {
   "cell_type": "markdown",
   "metadata": {},
   "source": [
    "Afin de permettre le fonctionnement décrit ci-dessus, une solution consiste à ajouter à la\n",
    "classe “MonBouton” une méthode “cliquer” qui sera exécutée chaque fois que l’on cliquera\n",
    "sur le bouton, et dont le rôle sera de désactiver ce bouton (valeur “DISABLED” pour sa\n",
    "propriété “state” modifiée avec sa méthode “config”) puis de faire appel à la méthode\n",
    "“traitement” de la classe “FenPrincipale” en indiquant la lettre correspondant à ce bouton\n",
    "pour que l’on puisse savoir de quelle touche (ou lettre) il s’agit. La méthode “traitement”\n",
    "devra ensuite faire le traitement adapté."
   ]
  },
  {
   "cell_type": "markdown",
   "metadata": {},
   "source": [
    "Un bouton correspondant à une touche du clavier virtuel doit donc être en mesure de\n",
    "fournir la lettre à laquelle il est associé. Il faut donc que cette lettre soit un attribut de la\n",
    "classe “MonBouton” qui sera initialisé par le constructeur de cette classe. De plus, la\n",
    "méthode “cliquer” devant faire appel à la méthode “traitement” de l’objet “FenPrincipale”,\n",
    "celui-ci devra également être stocké comme un attribut de la classe “MonBouton”, initialisé\n",
    "par son contructeur."
   ]
  },
  {
   "cell_type": "markdown",
   "metadata": {},
   "source": [
    "Le code suivant (à placer dans le constructeur de la classe “FenPrincipale”) permet d’ajouter\n",
    "un bouton (disposé dans une Frame “f2”, de largeur “4” et dont le texte est la valeur de “t”)\n",
    "à la liste des boutons de “FenPrincipale” et d’associer le clic sur ce bouton à sa méthode\n",
    "“cliquer” :"
   ]
  },
  {
   "cell_type": "raw",
   "metadata": {},
   "source": [
    "self.__boutons.append(MonBouton(f2,self,t,4))\n",
    "self.__boutons[0].config(command=self.__boutons[0].cliquer)"
   ]
  },
  {
   "cell_type": "markdown",
   "metadata": {},
   "source": [
    "#### 2. Traitement dans la classe “FenPrincipale”"
   ]
  },
  {
   "cell_type": "markdown",
   "metadata": {},
   "source": [
    "La méthode “traitement” de la classe “FenPrincipale” est appelée à chaque fois que le joueur\n",
    "clique sur un bouton (ou touche) du clavier virtuel. L’argument de cette méthode est donc la\n",
    "lettre correspondant au bouton qui a fait cet appel."
   ]
  },
  {
   "cell_type": "markdown",
   "metadata": {},
   "source": [
    "L’objectif de la méthode “traitement” de la classe “FenPrincipale” est donc de vérifier si la\n",
    "lettre est contenue dans le mot à découvrir. Ce mot doit être un attribut de la classe\n",
    "“FenPrincipale” (mot). De plus, le mot à afficher doit être une version masquée du mot à\n",
    "découvrir, où les lettres identifiées par le joueur apparaîssent en clair et les autres lettres\n",
    "sont remplacées par le caractère “*”. Ce mot à afficher devra également être un attribut de\n",
    "la classe “FenPrincipale” (motAffiche)."
   ]
  },
  {
   "cell_type": "markdown",
   "metadata": {},
   "source": [
    "Le traitement consiste donc à parcourir l’objet “mot” et à vérifier si la lettre correspondant à\n",
    "la touche du clavier virtuelle sélectionnée en fait partie. Si c’est le cas, le caractère “*“ dans\n",
    "l’objet “motAffiche” doit être remplacé par cette lettre."
   ]
  },
  {
   "cell_type": "markdown",
   "metadata": {},
   "source": [
    "Si “motAffiche” a été modifié, il faut alors réafficher le texte du label “lmot” en utilisant ce\n",
    "mot:"
   ]
  },
  {
   "cell_type": "raw",
   "metadata": {},
   "source": [
    "self.__lmot.config(text='Mot : '+self.__motAffiche)"
   ]
  },
  {
   "cell_type": "markdown",
   "metadata": {},
   "source": [
    "Dans le cas contraire (la lettre sélectionnée ne fait pas partie du mot à découvrir), il faut\n",
    "afficher un élément supplémentaire du pendu. Une manière de faire consiste à ajouter à la\n",
    "classe “FenPrincipale” un attribut “nbManques” correspondant au nombre de coups\n",
    "manqués, et donc au nombre de parties du pendu à afficher.\n",
    "\n",
    "Cet attribut est incrémenté à\n",
    "chaque fois qu’une lettre sélectionnée n’appartient pas au mot à découvrir, puis est utilisé\n",
    "pour préciser à l’objet “zoneAffichage” développé lors de TD précédent le nombre de formes\n",
    "à afficher contenues dans son attribut “dessin”."
   ]
  },
  {
   "cell_type": "markdown",
   "metadata": {},
   "source": [
    "La méthode “traitement” doit ensuite déterminer si à ce stade la partie est terminée : soit\n",
    "toutes les lettres du mot ont été découvertes (dans ce cas “mot” est identique à\n",
    "“motAffiche”) soit le pendu est intégralement affiché (dans ce cas le nombre de coups\n",
    "manqués (valeur de “nbManques”) est égal au nombre d’éléments du pendu)."
   ]
  },
  {
   "cell_type": "markdown",
   "metadata": {},
   "source": [
    "Une méthode “finPartie” peut être ajoutée à la classe “FenPrincipale” pour réaliser le\n",
    "traitement correspondant à la fin d’une partie. Afin de distinguer le cas d’une victoire du cas\n",
    "d’une défaite, “finPartie” peut prendre un argument de type booléen qui sera égal à la\n",
    "valeur “True” en cas de victoire et “False” en cas de défaite."
   ]
  },
  {
   "cell_type": "markdown",
   "metadata": {},
   "source": [
    "### D. Gestion du début et de la fin d'une partie"
   ]
  },
  {
   "cell_type": "markdown",
   "metadata": {},
   "source": [
    "#### 1. Méthode “nouvellePartie”"
   ]
  },
  {
   "cell_type": "markdown",
   "metadata": {},
   "source": [
    "Cette méthode “nouvellePartie” doit donc réaliser :\n",
    "- l’initialisation de l’attribut “mot” (voir dans la section suivante)\n",
    "- l’initialisation de l’attribut “motAffiche” (constitué d’autant de caractères “*” que de\n",
    "lettres dans l’attribut “mot”)\n",
    "- l’affichage de “motAffiche” comme texte du label “lmot”\n",
    "- l’initialisation de l’attribut nbManques à 0\n",
    "- l’initialisation de la zone du dessin du pendu (aucune de ses parties ne doit être\n",
    "affichée)\n",
    "- l’activation de tous les boutons du clavier virtuel (valeur “normal” pour la propriété\n",
    "“state” du bouton, à modifier avec sa méthode “config”)"
   ]
  },
  {
   "cell_type": "markdown",
   "metadata": {},
   "source": [
    "#### 2. Méthode “finPartie”"
   ]
  },
  {
   "cell_type": "markdown",
   "metadata": {},
   "source": [
    "La méthode “finPartie” doit être appelée par la méthode “traitement” vue précédemment,\n",
    "toutes deux de la classe “FenPrincipale”. Comme cela a été vu dans la section C.2, “finPartie”\n",
    "dispose d’un argument booléen, égal à “True” si le jouer a gagné ou égal à “False” si le\n",
    "joueur a perdu."
   ]
  },
  {
   "cell_type": "markdown",
   "metadata": {},
   "source": [
    "La méthode “finPartie” doit donc réaliser :\n",
    "- la désactivation de toutes les touches du clavier virtuel\n",
    "- la modification du texte du label “lmot” pour afficher soit un message de félicitation\n",
    "en cas de victoire (image 4 de la figure 1) soit le mot complet en cas de défaite\n",
    "(image 3 de la figure 1)."
   ]
  },
  {
   "cell_type": "markdown",
   "metadata": {},
   "source": [
    "### E. Gestion du dictionnaire"
   ]
  },
  {
   "cell_type": "markdown",
   "metadata": {},
   "source": [
    "#### 1. Méthode “chargeMots”"
   ]
  },
  {
   "cell_type": "markdown",
   "metadata": {},
   "source": [
    "Afin d’avoir un vaste ensemble de mots à découvrir, vous pouvez utiliser le fichier “mots.txt”\n",
    "accompagnant le présent document sur le site pedagogie. Ce fichier contient 835 mots. Ces\n",
    "mots seront stockés au sein de l’application dans un attribut “mots” qui devra être ajouté à\n",
    "la classe “FenPrincipale”.\n",
    "\n",
    "Il s’agit d’une liste des chaînes de caractère. Cette liste devra être\n",
    "remplie dès le lancement de l’application. Il faut donc que le constructeur de la classe\n",
    "“FenPrincipale” fasse appel à une méthode que se chargera de remplir le vecteur “mots”\n",
    "avec les mots contenus dans le fichier “mots.txt”. Cette méthode pourra s’appeler\n",
    "“chargeMots”."
   ]
  },
  {
   "cell_type": "markdown",
   "metadata": {},
   "source": [
    "Par exemple, le code suivant permet d’ouvrir un fichier “toto.txt”, de stocker le contenu du\n",
    "fichier dans une chaîne de caractères, d’extraire de cette chaîne chaque ligne qui sera\n",
    "stockée dans une liste, puis de l’afficher."
   ]
  },
  {
   "cell_type": "raw",
   "metadata": {},
   "source": [
    "f = open('toto.txt','r')\n",
    "s = f.read()\n",
    "l = s.split('\\n')\n",
    "f.close()\n",
    "print(l)"
   ]
  },
  {
   "cell_type": "markdown",
   "metadata": {},
   "source": [
    "#### 2. Méthode “nouveauMot”"
   ]
  },
  {
   "cell_type": "markdown",
   "metadata": {},
   "source": [
    "Une fois le vecteur “mots” remplis à partir des mots présents dans le fichier “mots.txt”, un\n",
    "nouveau mot à découvrir doit être sélectionné. Ce traitement pourra être pris en charge par\n",
    "une méthode “nouveauMot” à ajouter à la classe “FenPrincipale”. Cette méthode devra\n",
    "renvoyer une chaîne de caractères qui sera stockée dans l’attribut “mot” de la classe\n",
    "“FenPrincipale”. Ainsi, “nouveauMot” sera appelée depuis la méthode “nouvellePartie”\n",
    "décrite précédemment."
   ]
  },
  {
   "cell_type": "markdown",
   "metadata": {},
   "source": [
    "Afin de ne pas sélectionner systématiquement le même mot, un tirage aléatoire peut être\n",
    "effectué. La fonction “randint” peut être utilisée pour cela. Par exemple, le code suivant\n",
    "permet d’obtenir des valeurs aléatoires entre 0 et 10 :"
   ]
  },
  {
   "cell_type": "raw",
   "metadata": {},
   "source": [
    "from random import randint\n",
    "nb = randint(0,10)\n",
    "print(nb)"
   ]
  },
  {
   "cell_type": "markdown",
   "metadata": {},
   "source": [
    "<center style=\"color:#c60; font-size:1.5em; margin:1.33em 0 3em;\">__A ce stade, l’application “Jeu du Pendu” devrait être complètement\n",
    "fonctionnelle !!!__</center>"
   ]
  },
  {
   "cell_type": "markdown",
   "metadata": {},
   "source": [
    "### F. Aller plus loin..."
   ]
  },
  {
   "cell_type": "markdown",
   "metadata": {},
   "source": [
    "Pour ceux qui veulent aller plus loin, les améliorations OPTIONNELLES suivantes de\n",
    "l’application “Jeu du Pendu” peuvent être envisagées :"
   ]
  },
  {
   "cell_type": "markdown",
   "metadata": {},
   "source": [
    "#### 1. Gestion des scores pour les joueurs"
   ]
  },
  {
   "cell_type": "markdown",
   "metadata": {},
   "source": [
    "__Indication__ : Créer une classe “Joueur” avec un attribut “nom” et un attribut “scores” qui un\n",
    "est un vecteur de nombres entiers. Ajouter un attribut “joueurs” à la classe “FenPrincipale”\n",
    "correspondant à une liste d’instances de la classe “Joueur”. Ajouter dans la fenêtre\n",
    "principale une zone où le joueur peut préciser son nom, et prévoir l’affichage des scores des\n",
    "joueurs dans une fenêtre supplémentaire."
   ]
  },
  {
   "cell_type": "markdown",
   "metadata": {},
   "source": [
    "#### 2. Afficher des images du pendu"
   ]
  },
  {
   "cell_type": "markdown",
   "metadata": {},
   "source": [
    "Plutôt que d’afficher le pendu comme un dessin dont les formes s’affichent au fur et à\n",
    "mesure des échecs de l’utilisateur, plusieurs images pourraient être utilisées pour\n",
    "représenter les différents états du pendu, et à chaque étape, l’image correspondant au\n",
    "nombre d’échecs du joueur est affichée."
   ]
  },
  {
   "cell_type": "markdown",
   "metadata": {},
   "source": [
    "__Indication__ : le code suivant permet d’afficher dans un canevas l’image “pendu.png”:"
   ]
  },
  {
   "cell_type": "code",
   "execution_count": 3,
   "metadata": {
    "collapsed": false
   },
   "outputs": [],
   "source": [
    "from tkinter import *\n",
    "fenetre = Tk()\n",
    "fenetre.title('Image')\n",
    "\n",
    "canevas = Canvas(fenetre)\n",
    "canevas.pack()\n",
    "\n",
    "nomImage = 'pendu.png'\n",
    "photo = PhotoImage(file=nomImage)\n",
    "\n",
    "canevas.create_image(0,0, anchor=NW, image=photo)\n",
    "canevas.config(height=photo.height(),width=photo.width())\n",
    "\n",
    "fenetre.mainloop()"
   ]
  },
  {
   "cell_type": "markdown",
   "metadata": {},
   "source": [
    "#### 3. A vous d’imaginer d’autres améliorations..."
   ]
  },
  {
   "cell_type": "markdown",
   "metadata": {},
   "source": [
    "### G. Travail à rendre"
   ]
  },
  {
   "cell_type": "markdown",
   "metadata": {},
   "source": [
    "Ce travail doit être fini dans les deux semaines ouvrables suivant la séance de TD."
   ]
  },
  {
   "cell_type": "markdown",
   "metadata": {},
   "source": [
    "Une archive électronique devra être créée puis déposée sur le site « pedagogie ». Cette\n",
    "archive nommée « eleve1-eleve2.zip » doit contenir :\n",
    "- Le <span style=\"color:green\">fichier .ipynb _(notebook ipython)_</span> avec :\n",
    "  - en haut de page vos noms, le numéro du groupe de TD, le nom de l’enseignant et le titre du TD,\n",
    "  - le texte du compte-rendu comprenant :\n",
    "    - une présentation du problème,\n",
    "    - les choix de modélisation et le diagramme de classes UML ;\n",
    "  - les codes source de l'application,\n",
    "  - les traces d’exécution commentées pour chaque validation intermédiaire des classes, ainsi que pour la validation de l’application finale ;\n",
    "- les éventuelles images référencées depuis le notebook,\n",
    "- les fichier python \".py\" dans le cas où vous feriez référence à des modules extérieurs au notebook.\n"
   ]
  },
  {
   "cell_type": "markdown",
   "metadata": {},
   "source": [
    "__ATTENTION__ : si vous avez ajouté des fonctionnalités optionnelles à votre application (voir\n",
    "section F.), deux versions de votre programme doivent être rendues : la version\n",
    "correspondant à la partie obligatoire et la version enrichie."
   ]
  },
  {
   "cell_type": "markdown",
   "metadata": {},
   "source": [
    "\n",
    "\n",
    "\n",
    "\n",
    "\n",
    "\n",
    "\n",
    "\n",
    "# Travail"
   ]
  },
  {
   "cell_type": "code",
   "execution_count": 2,
   "metadata": {
    "collapsed": false,
    "scrolled": true
   },
   "outputs": [
    {
     "name": "stderr",
     "output_type": "stream",
     "text": [
      "Exception in Tkinter callback\n",
      "Traceback (most recent call last):\n",
      "  File \"/Users/Emy/Applications/anaconda3/lib/python3.5/tkinter/__init__.py\", line 1549, in __call__\n",
      "    return self.func(*args)\n",
      "TypeError: cliquer() missing 1 required positional argument: 'car'\n",
      "Exception in Tkinter callback\n",
      "Traceback (most recent call last):\n",
      "  File \"/Users/Emy/Applications/anaconda3/lib/python3.5/tkinter/__init__.py\", line 1549, in __call__\n",
      "    return self.func(*args)\n",
      "TypeError: cliquer() missing 1 required positional argument: 'car'\n",
      "Exception in Tkinter callback\n",
      "Traceback (most recent call last):\n",
      "  File \"/Users/Emy/Applications/anaconda3/lib/python3.5/tkinter/__init__.py\", line 1549, in __call__\n",
      "    return self.func(*args)\n",
      "TypeError: cliquer() missing 1 required positional argument: 'car'\n",
      "Exception in Tkinter callback\n",
      "Traceback (most recent call last):\n",
      "  File \"/Users/Emy/Applications/anaconda3/lib/python3.5/tkinter/__init__.py\", line 1549, in __call__\n",
      "    return self.func(*args)\n",
      "TypeError: cliquer() missing 1 required positional argument: 'car'\n",
      "Exception in Tkinter callback\n",
      "Traceback (most recent call last):\n",
      "  File \"/Users/Emy/Applications/anaconda3/lib/python3.5/tkinter/__init__.py\", line 1549, in __call__\n",
      "    return self.func(*args)\n",
      "TypeError: cliquer() missing 1 required positional argument: 'car'\n",
      "Exception in Tkinter callback\n",
      "Traceback (most recent call last):\n",
      "  File \"/Users/Emy/Applications/anaconda3/lib/python3.5/tkinter/__init__.py\", line 1549, in __call__\n",
      "    return self.func(*args)\n",
      "TypeError: cliquer() missing 1 required positional argument: 'car'\n"
     ]
    },
    {
     "data": {
      "text/plain": [
       "\"          n=len(mot)\\n            for i in range(n):\\n                if lettre=mot[i]:\\n                    motAffiche[i]=lettre\\n                    self.__lmot.config(text='Mot : '+self.__motAffiche)\\n                else:\\n                    nbManques+=1\\n            if mot==motAffiche:\\n                finPartie=True\\n            elif nbManques=8: #Nombre d'éléments du pendu à déterminer\\n                finPartie=False\\n        \""
      ]
     },
     "execution_count": 2,
     "metadata": {},
     "output_type": "execute_result"
    }
   ],
   "source": [
    "from tkinter import *\n",
    "\n",
    "f = open('mots.txt','r')\n",
    "s = f.read()\n",
    "mots = s.split('\\n')\n",
    "f.close()\n",
    "\n",
    "\n",
    "class ZoneAffichage(Canvas):\n",
    "    def __init__(self,parent, w, h, c):\n",
    "        Canvas.__init__(self, width = w, height = h, bg = c)\n",
    "\n",
    "class MonBouton(Button):\n",
    "    def __init__(self,frame,car,callback):\n",
    "        Button.__init__(self,frame,text=car,command=self.cliquer)\n",
    "        self.__lettre=car\n",
    "        self.traitement=callback\n",
    "    \n",
    "    def cliquer(self,car):\n",
    "        self.config(state='DISABLED')\n",
    "        self.traitement(self.__lettre)\n",
    "        \n",
    "\n",
    "class FenPrincipale(Tk):\n",
    "    def __init__(self):\n",
    "        Tk.__init__(self)\n",
    "        self.title('Jeu du pendu')\n",
    "        \n",
    "        self.__mot=''\n",
    "        self.__motAffiche=''\n",
    "        self.__nbManques=0\n",
    "        \n",
    "        \n",
    "        #Boutons Nouveau et Quitter en haut de page\n",
    "        f1 = Frame(self)\n",
    "        f1.pack(side=TOP, padx=5, pady=5)\n",
    "        self.__boutonNew = Button(f1, text ='Nouvelle partie', width=15, command = self.nouvellePartie).pack(side=LEFT, padx = 5,pady = 5)\n",
    "        self.__boutonQuitter = Button(f1,text='Quitter',width=15,command=self.destroy).pack(side=LEFT,padx=5,pady=5)\n",
    "        \n",
    "        \n",
    "        self.__zoneAffichage = ZoneAffichage(self,400,500,'white')\n",
    "        \n",
    "        \n",
    "        #Barre d'affichage\n",
    "        self.__lmot = Label(self)\n",
    "        self.__lmot.pack(side=TOP)\n",
    "        self.__lmot.config(text=self.__motAffiche)\n",
    "        \n",
    "        \n",
    "        #Création  du clavier\n",
    "        self.__f = Frame(self)\n",
    "        self.__f.pack(side=TOP, padx=5, pady=5)\n",
    "        for i in range(26):\n",
    "            lettre=(chr(ord('A')+i))\n",
    "            bouton=MonBouton(self.__f,lettre,self.traitement)\n",
    "            bouton.grid(row=i//7,column=i%7)\n",
    "\n",
    "\n",
    "        \n",
    "    def nouveauMot(self):\n",
    "        from random import randint\n",
    "        nb = randint(0,834)\n",
    "        self.__mot=mots[nb]\n",
    "        return(self.__mot)\n",
    "\n",
    "        \n",
    "    def nouvellePartie(self):\n",
    "        self.__mot=self.nouveauMot()\n",
    "        for i in self.__mot:\n",
    "            self.__motAffiche+='*'\n",
    "        self.lmot = Label(self)\n",
    "        self.lmot.pack(side=TOP)\n",
    "        self.lmot.config(text=self.__motAffiche)\n",
    "        \n",
    "\n",
    "    def traitement(self,lettre):\n",
    "        pass\n",
    "    \n",
    "\"\"\" self.__mot=nouveauMot()\n",
    "            \n",
    "            n=len(mot)\n",
    "            chaine=str()\n",
    "            for i in range(len(mot)):\n",
    "                chaine+='*'\n",
    "            self.__motAffiche=chaine\n",
    "            \n",
    "            self.__nbManques=0\n",
    "            \n",
    "            self.__zoneAffichage.delete(ALL)\"\"\"\n",
    "            \n",
    "\"\"\"l’activation de tous les boutons du clavier virtuel (valeur “normal” pour la propriété “state” du bouton, \n",
    "à modifier avec sa méthode “config”)\"\"\"\n",
    "\n",
    "\n",
    "        #def finPartie(self):\n",
    "            \n",
    "       \n",
    "    #Création de la fenêtre principale\n",
    "fen = FenPrincipale()\n",
    "fen.mainloop()            \n",
    "            \n",
    "        \n",
    "    \n",
    "\"\"\"          n=len(mot)\n",
    "            for i in range(n):\n",
    "                if lettre=mot[i]:\n",
    "                    motAffiche[i]=lettre\n",
    "                    self.__lmot.config(text='Mot : '+self.__motAffiche)\n",
    "                else:\n",
    "                    nbManques+=1\n",
    "            if mot==motAffiche:\n",
    "                finPartie=True\n",
    "            elif nbManques=8: #Nombre d'éléments du pendu à déterminer\n",
    "                finPartie=False\n",
    "        \"\"\""
   ]
  },
  {
   "cell_type": "code",
   "execution_count": null,
   "metadata": {
    "collapsed": true
   },
   "outputs": [],
   "source": []
  }
 ],
 "metadata": {
  "kernelspec": {
   "display_name": "Python 3",
   "language": "python",
   "name": "python3"
  },
  "language_info": {
   "codemirror_mode": {
    "name": "ipython",
    "version": 3
   },
   "file_extension": ".py",
   "mimetype": "text/x-python",
   "name": "python",
   "nbconvert_exporter": "python",
   "pygments_lexer": "ipython3",
   "version": "3.5.1"
  }
 },
 "nbformat": 4,
 "nbformat_minor": 0
}
