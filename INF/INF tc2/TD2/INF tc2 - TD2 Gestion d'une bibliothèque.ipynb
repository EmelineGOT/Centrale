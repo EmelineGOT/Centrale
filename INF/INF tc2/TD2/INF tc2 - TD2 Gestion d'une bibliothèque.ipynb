{
 "cells": [
  {
   "cell_type": "markdown",
   "metadata": {},
   "source": [
    "#   <center>Informatique tc2 (Conception et programmation objet) - TD2</center>"
   ]
  },
  {
   "cell_type": "markdown",
   "metadata": {},
   "source": [
    "## <center style=\"color: #66d\">Gestion d'une bibliothèque</center>"
   ]
  },
  {
   "cell_type": "markdown",
   "metadata": {},
   "source": [
    "### A. But du TD"
   ]
  },
  {
   "cell_type": "markdown",
   "metadata": {},
   "source": [
    "Ce TD se veut être un excercice de programmation orientée objet. Il s’agit de concevoir et de\n",
    "réaliser un programme de gestion simple d’une bibliothèque, intégrant la gestion des lecteurs,\n",
    "la gestion des livres et la gestion des emprunts."
   ]
  },
  {
   "cell_type": "markdown",
   "metadata": {},
   "source": [
    "__Remarque importante__ : ce TD part d’un problème simple et connu qui permet d’en faire la\n",
    "conception et la réalisation dans le temps qui nous est imparti par les contraintes scolaires.\n",
    "Les choix de conception et de réalisation sont donc orientés par ces contraintes et par les\n",
    "objectifs pédagogiques, à savoir : apprendre la programmation orientée objet en Python. Il est\n",
    "clair que le même problème dans un cadre professionnel serait traité d’une autre manière et\n",
    "une solution basée sur des bases de données émergerait naturellement, solution que nous\n",
    "écartons a priori car en dehors du périmètre de ce cours."
   ]
  },
  {
   "cell_type": "markdown",
   "metadata": {},
   "source": [
    "### B. Cahier des charges"
   ]
  },
  {
   "cell_type": "markdown",
   "metadata": {},
   "source": [
    "Le cahier des charges de notre application est décrit ci-dessous. Il est volontairement donné\n",
    "sous une forme informelle.\n",
    "\n",
    "Tout d’abord, on doit pouvoir gérer le fond documentaire de la bibliothèque. Il s’agit de\n",
    "pouvoir ajouter des ouvrages (achat de livres) ou d’en retirer (désherbage ou vol) et de\n",
    "rechercher un ouvrage (par titre ou par numéro). Pour simplifier, on considérera que tous les\n",
    "ouvrages sont des livres caractérisés par :\n",
    "- Le nom de l’auteur\n",
    "- Le titre de l’ouvrage\n",
    "- Un numéro de livre (attribué de manière unique par les bibliothécaires)\n",
    "- Le nombre d’exemplaires achetés\n",
    "\n",
    "Notre application doit être capable de gérer également les lecteurs de la bibliothèque. Chacun\n",
    "d’eux est caractérisé par :\n",
    "- Son nom\n",
    "- Son prénom\n",
    "- Son adresse\n",
    "- Un numéro (attribué de manière unique par les bibliothécaires)\n",
    "\n",
    "On doit pouvoir ajouter ou retirer des lecteurs à tout moment et bien sûr rechercher des\n",
    "personnes (par leur nom ou par leur numéro de lecteur).\n",
    "\n",
    "Tout lecteur peut emprunter des livres dans la bibliothèque. Un lecteur pour emprunter\n",
    "plusieurs livres différents simultanément ou à des dates différentes et un même livre peut\n",
    "être emprunté par plusieurs lecteurs (s’il existe plusieurs exemplaires). Au moment de\n",
    "l’emprunt, il faut donc vérifier qu’un exemplaire de l’ouvrage est bien disponible et qu’il n’a\n",
    "pas été emprunté par le même lecteur. De manière symétrique, il faut également gérer le\n",
    "retour des livres.\n",
    "\n",
    "On désire également pouvoir éditer des états détaillés :\n",
    "- Liste de tous les lecteurs\n",
    "- Liste de tous les livres\n",
    "- Liste de tous les emprunts"
   ]
  },
  {
   "cell_type": "markdown",
   "metadata": {},
   "source": [
    "### C. Conception en UML"
   ]
  },
  {
   "cell_type": "markdown",
   "metadata": {},
   "source": [
    "Il s’agit de faire la conception de cette application en utilisant une approche objet. Dans ce\n",
    "cadre, il faut donc commencer par identifier les “concepts” qui sont manipulés par\n",
    "l’application. On en déduit ainsi les objets manipulés par l’application qu’on généralise en\n",
    "terme de classes avec les attributs et les méthodes associés.\n",
    "\n",
    "Il est donc demandé, à partir du cahier des charges, de faire la conception de cette application\n",
    "en utilisant la notation UML (diagramme de classes seulement). Il faudra donc faire apparaître\n",
    "clairement les classes, les relations entre classes et détailler les attributs et les méthodes de\n",
    "chaque classe."
   ]
  },
  {
   "cell_type": "raw",
   "metadata": {},
   "source": [
    "Il faut créer les deux classes livres et lecteurs données dans le cahier des charges. On crée en parallèle une classe bibliothèque qui va permettre de stocker les listes des lecteurs, des livres et des emprunts qu'il faut créer d'après le cahier des charges. "
   ]
  },
  {
   "cell_type": "code",
   "execution_count": null,
   "metadata": {
    "collapsed": true
   },
   "outputs": [],
   "source": []
  },
  {
   "cell_type": "markdown",
   "metadata": {},
   "source": [
    "### D. Mise en oeuvre en Python"
   ]
  },
  {
   "cell_type": "markdown",
   "metadata": {},
   "source": [
    "Ecrire en Python les classes abordées précédemment. Il est vivement conseillé de faire un\n",
    "travail incrémental en ne développant que pas à pas chaque classe et en testant le code par\n",
    "des petits jeux d’essai.\n",
    "\n",
    "Prévoir donc deux fichiers :\n",
    "- Un fichier « bibliotheque.py » comportant la définition des classes\n",
    "- Un fichier « test_bibliotheque.py » contenant le programme principal dont le rôle sera\n",
    "de tester toutes les fonctionnalités des classes dans les différents contextes qui\n",
    "peuvent se présenter. Par exemple, il faut tester l’emprunt d’un livre dans le cas où\n",
    "l’ouvrage est disponible et dans le cas où l’ouvrage est déjà emprunté.\n",
    "\n",
    "Un exemple partiel d’un tel programme de test est fourni en annexe 1."
   ]
  },
  {
   "cell_type": "markdown",
   "metadata": {},
   "source": [
    "### E. Travail à rendre"
   ]
  },
  {
   "cell_type": "markdown",
   "metadata": {},
   "source": [
    "Le livrable de ce travail devra être déposé sur le site “pedagogie” dans un délai de deux semaines après la séance sous la forme d'un notebook (fichier .ipynb) par binôme. Il contiendra bien sûr le code source Python commenté, mais également :\n",
    "- une entête faisant figurer de manière claire le nom des membres du binôme, leur numéro de groupe, le nom de l’enseignant ainsi que le titre du TD,\n",
    "- un compte-rendu du travail détaillant l’analyse du problème et les solutions apportées,\n",
    "- des traces d’exécution,\n",
    "- des commentaires sur les résultats obtenus."
   ]
  },
  {
   "cell_type": "markdown",
   "metadata": {},
   "source": [
    "### Annexe 1 : exemple de programme principal (« test_bibliotheque.py » )"
   ]
  },
  {
   "cell_type": "raw",
   "metadata": {},
   "source": [
    "#\n",
    "# N.B. Le fonctionnement de ce programme de test est bien sûr conditionné par l'écriture\n",
    "# préalable du code source de la classe Bibliotheque...\n",
    "#\n",
    "\n",
    "\n",
    "# Creation d'une bibliotheque\n",
    "b = Bibliotheque('Bibliotheque ECL')\n",
    "\n",
    "# Ajout de lecteurs\n",
    "b.ajout_lecteur('Duval','Pierre','rue de la Paix',1)\n",
    "b.ajout_lecteur('Dupond','Laurent','rue de la Gare',2)\n",
    "b.ajout_lecteur('Martin','Marie','rue La Fayette',3)\n",
    "b.ajout_lecteur('Dubois','Sophie','rue du Stade',4)\n",
    "\n",
    "# Ajout de livres\n",
    "b.ajout_livre('Le Pere Goriot','Honore de Balzac',101,2)\n",
    "b.ajout_livre('Les Hauts de Hurlevent','Emilie Bronte',102,2)\n",
    "b.ajout_livre('Le Petit Prince','Antoine de Saint Exupery',103,2)\n",
    "b.ajout_livre('L\\'Etranger','Albert Camus',104,2)\n",
    "\n",
    "# Affichage des lecteurs et des livres\n",
    "print('\\n--- Liste des lecteurs :')\n",
    "print('-------------------------------')\n",
    "b.affiche_lecteurs()\n",
    "print('\\n--- Liste des livres :')\n",
    "print('-------------------------------')\n",
    "b.affiche_livres()\n",
    "\n",
    "# Recherches de lecteurs par numero\n",
    "print('\\n--- Recherche de lecteurs :')\n",
    "print('-------------------------------')\n",
    "rep,lect = b.chercher_lecteur_numero(1)\n",
    "if rep:\n",
    "    print(lect)\n",
    "else:\n",
    "    print('Lecteur non trouve')\n",
    "\n",
    "rep,lect = b.chercher_lecteur_numero(6)\n",
    "if rep:\n",
    "    print(lect)\n",
    "else:\n",
    "    print('Lecteur non trouve')\n",
    "\n",
    "# Recherches de lecteurs par nom\n",
    "rep,lect = b.chercher_lecteur_nom('Martin','Marie')\n",
    "if rep:\n",
    "    print(lect)\n",
    "else:\n",
    "    print('Lecteur non trouve')\n",
    "\n",
    "rep,lect = b.chercher_lecteur_nom('Le Grand','Paul')\n",
    "if rep:\n",
    "    print(lect)\n",
    "else:\n",
    "    print('Lecteur non trouve')\n",
    "\n",
    "# Recherches de livres par numero\n",
    "print('\\n--- Recherche de livres :')\n",
    "print('-------------------------------')\n",
    "rep,livre = b.chercher_livre_numero(101)\n",
    "if rep:\n",
    "    print('Livre trouve :',livre)\n",
    "else:\n",
    "    print('Livre non trouve')\n",
    "\n",
    "rep,livre = b.chercher_livre_numero(106)\n",
    "if rep:\n",
    "    print('Livre trouve :',livre)\n",
    "else:\n",
    "    print('Livre non trouve')\n",
    "\n",
    "# Recherches de livres par titre\n",
    "rep,livre = b.chercher_livre_titre('Les Hauts de Hurlevent')\n",
    "if rep:\n",
    "    print('Livre trouve :',livre)\n",
    "else:\n",
    "    print('Livre non trouve')\n",
    "\n",
    "rep,livre = b.chercher_livre_titre('Madame Bovarie')\n",
    "if rep:\n",
    "    print('Livre trouve :',livre)\n",
    "else:\n",
    "    print('Livre non trouve')\n",
    "\n",
    "# Quelques emprunts\n",
    "print('\\n--- Quelques emprunts :')\n",
    "print('-------------------------------')\n",
    "b.emprunt_livre(1,101)\n",
    "b.emprunt_livre(1,104)\n",
    "b.emprunt_livre(2,101)\n",
    "b.emprunt_livre(2,105)\n",
    "b.emprunt_livre(3,101)\n",
    "b.emprunt_livre(3,104)\n",
    "b.emprunt_livre(4,102)\n",
    "b.emprunt_livre(4,103)\n",
    "\n",
    "# Affichage des emprunts, des lecteurs et des livres\n",
    "print('\\n--- Liste des emprunts :')\n",
    "print('-------------------------------')\n",
    "b.affiche_emprunts()\n",
    "print('\\n--- Liste des lecteurs :')\n",
    "print('-------------------------------')\n",
    "b.affiche_lecteurs()\n",
    "print('\\n--- Liste des livres :')\n",
    "print('-------------------------------')\n",
    "b.affiche_livres()\n",
    "\n",
    "# Quelques retours de livres\n",
    "print('\\n--- Quelques retours de livres :')\n",
    "print('-------------------------------')\n",
    "b.retour_livre(1,101)\n",
    "b.retour_livre(1,102)\n",
    "b.retour_livre(3,104)\n",
    "b.retour_livre(10,108)\n",
    "\n",
    "# Affichage des emprunts, des lecteurs et des livres\n",
    "print('\\n--- Liste des emprunts :')\n",
    "print('-------------------------------')\n",
    "b.affiche_emprunts()\n",
    "print('\\n--- Liste des lecteurs :')\n",
    "print('-------------------------------')\n",
    "b.affiche_lecteurs()\n",
    "print('\\n--- Liste des livres :')\n",
    "print('-------------------------------')\n",
    "b.affiche_livres()\n",
    "\n",
    "# Suppression de quelques livres\n",
    "rep = b.retrait_livre(101)\n",
    "if not rep:\n",
    "    print('Retrait du livre impossible')\n",
    "else:\n",
    "    print('Retrait du livre effectue')\n",
    "\n",
    "b.retour_livre(2,101)\n",
    "\n",
    "rep = b.retrait_livre(101)\n",
    "if not rep:\n",
    "    print('Retrait du livre impossible')\n",
    "else:\n",
    "    print('Retrait du livre effectue')\n",
    "\n",
    "# Suppression de quelques lecteurs\n",
    "rep = b.retrait_lecteur(1)\n",
    "if not rep:\n",
    "    print('Retrait du lecteur impossible')\n",
    "else:\n",
    "    print('Retrait du lecteur effectue')\n",
    "\n",
    "b.retour_livre(1,104)\n",
    "\n",
    "rep = b.retrait_lecteur(1)\n",
    "if not rep:\n",
    "    print('Retrait du lecteur impossible')\n",
    "else:\n",
    "    print('Retrait du lecteur effectue')\n",
    "\n",
    "# Affichage des emprunts, des lecteurs et des livres\n",
    "print('\\n--- Liste des emprunts :')\n",
    "print('-------------------------------')\n",
    "b.affiche_emprunts()\n",
    "print('\\n--- Liste des lecteurs :')\n",
    "print('-------------------------------')\n",
    "b.affiche_lecteurs()\n",
    "print('\\n--- Liste des livres :')\n",
    "print('-------------------------------')\n",
    "b.affiche_livres()\n"
   ]
  }
 ],
 "metadata": {
  "kernelspec": {
   "display_name": "Python 3",
   "language": "python",
   "name": "python3"
  },
  "language_info": {
   "codemirror_mode": {
    "name": "ipython",
    "version": 3
   },
   "file_extension": ".py",
   "mimetype": "text/x-python",
   "name": "python",
   "nbconvert_exporter": "python",
   "pygments_lexer": "ipython3",
   "version": "3.5.1"
  }
 },
 "nbformat": 4,
 "nbformat_minor": 0
}
