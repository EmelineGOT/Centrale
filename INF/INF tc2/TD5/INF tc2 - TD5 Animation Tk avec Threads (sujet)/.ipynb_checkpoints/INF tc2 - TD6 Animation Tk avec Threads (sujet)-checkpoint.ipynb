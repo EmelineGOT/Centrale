{
 "cells": [
  {
   "cell_type": "markdown",
   "metadata": {},
   "source": [
    "#  <center>Informatique tc2 (Conception et programmation objet) - TD6</center>"
   ]
  },
  {
   "cell_type": "markdown",
   "metadata": {},
   "source": [
    "## <center style=\"color: #66d\">Animation Tk avec Threads</center>"
   ]
  },
  {
   "cell_type": "markdown",
   "metadata": {},
   "source": [
    "### A. Objectif du TD"
   ]
  },
  {
   "cell_type": "markdown",
   "metadata": {},
   "source": [
    "L’objectif de ce TD est d’introduire les threads et de les mettre en oeuvre dans le cadre d’une\n",
    "application utilisant des animations graphiques avec Tk. Le principe général de cette\n",
    "application est le suivant : un thread (processus s’exécutant en même temps que le\n",
    "processus principal) génère des propriétés aléatoires pour des balles mobiles et les ajoute à\n",
    "une file (classe Queue qui gère l’accès concurrentiel). Le processus principal (l’application\n",
    "Tk), vérifie périodiquement s’il y a quelque chose à récupérer dans la file, et si c’est le cas,\n",
    "crée une balle mobile et la fait se déplacer dans la zone d’affichage."
   ]
  },
  {
   "cell_type": "markdown",
   "metadata": {},
   "source": [
    "<img src=\"interface.png\">\n",
    "<center>_Figure 1 – Capture d’écran de l’application “Balles aléatoires”_</center>"
   ]
  },
  {
   "cell_type": "markdown",
   "metadata": {},
   "source": [
    "### B. Architecture de l'application"
   ]
  },
  {
   "cell_type": "markdown",
   "metadata": {},
   "source": [
    "Une solution à la mise en oeuvre de ce programme consiste à considérer quatre classes :\n",
    "- une classe “FenPrincipale” (héritant de la classe “Tk”) correspondant à l’interface principale et gérant l’application,\n",
    "- une classe “ZoneAffichage” (héritant de la classe “Canvas”) gérant la construction et l’affichage des balles,\n",
    "- une classe “BalleMobile” regroupant les propriétés des balles qui se déplaceront dans la zone d’affichage,\n",
    "- une classe “Generateur” (héritant de la classe “Thread”) correspondant à un thread générant des propriétés aléatoires pour créer des balles mobiles et les ajoutant à une file qui sera péridiquement consultée par la classe FenPrincipale."
   ]
  },
  {
   "cell_type": "markdown",
   "metadata": {},
   "source": [
    "#### B.1 La classe Generateur"
   ]
  },
  {
   "cell_type": "markdown",
   "metadata": {},
   "source": [
    "Le rôle de cette classe est de générer des propriétés permettant de construire des balles\n",
    "mobiles (coordonnées initiales, rayon, couleur, angle et vitesse de déplacement). Ce\n",
    "processus doit pouvoir s’exécuter en parallèle du processus gérant l’affichage des balles.\n",
    "Nous allons pour cela utiliser un thread."
   ]
  },
  {
   "cell_type": "markdown",
   "metadata": {},
   "source": [
    "Les threads sont des flux d’instructions qui s’éxécutent en parallèle (quasi-simultanément).\n",
    "En fait, le flux d’instructions de n’importe quel programme Python suit toujours au moins un\n",
    "thread : le thread principal. À partir de celui-ci, d’autres threads enfants peuvent être\n",
    "amorcés, qui seront exécutés en parallèle. Chaque thread enfant se termine et disparaît\n",
    "lorsque toutes les instructions qu’il contient ont été exécutées. Par contre, lorsque le thread\n",
    "principal se termine, il faut parfois s’assurer que tous ses threads enfants «&nbsp;meurent&nbsp;» avec\n",
    "lui."
   ]
  },
  {
   "cell_type": "markdown",
   "metadata": {},
   "source": [
    "Pour que “Generateur” puisse être un thread, il suffit de le faire hériter de la classe “Thread”\n",
    "du module “threading”. Son traitement doit être indiqué dans sa méthode “run”. Ensuite,\n",
    "l’exécution d’un thread, une fois l’objet instancié, est réalisée en faisait appel à sa méthode\n",
    "prédéfinie “start”. Son arrêt se fera par appel à sa méthode “stop”."
   ]
  },
  {
   "cell_type": "markdown",
   "metadata": {},
   "source": [
    "Dans l’exemple suivant, la classe “Messager” est un thread affichant un message à l’écran. Le\n",
    "programme principal créera deux threads “Messager” qui s’exécuteront en parallèle."
   ]
  },
  {
   "cell_type": "code",
   "execution_count": 2,
   "metadata": {
    "collapsed": false
   },
   "outputs": [],
   "source": [
    "from threading import *\n",
    "import time\n",
    "from tkinter import *\n",
    "\n",
    "class App(Tk):\n",
    "    def __init__(self):\n",
    "        Tk.__init__(self)\n",
    "        self.title(\"Essai Threads\")\n",
    "        self.__m1 = Messager(\"Coucou\")\n",
    "        self.__m2 = Messager(\"Bonjour\")\n",
    "        Button(self,text=\"Démarrer\", command=self.demarrerThreads).pack(side=LEFT, padx=5, pady=5)\n",
    "        Button(self,text=\"Stop\", command=self.arreterThreads).pack(side=LEFT, padx=5, pady=5)\n",
    "        Button(self,text=\"Quitter\", command=self.destroy).pack(side=LEFT, padx=5, pady=5)\n",
    "\n",
    "    def demarrerThreads(self):\n",
    "        self.__m1.start()\n",
    "        self.__m2.start()\n",
    "\n",
    "    def arreterThreads(self):\n",
    "        self.__m1.stop()\n",
    "        self.__m2.stop()\n",
    "\n",
    "class Messager(Thread):\n",
    "    def __init__(self,m):\n",
    "        Thread.__init__(self)\n",
    "        self.__message = m\n",
    "        self.__actif = True\n",
    "\n",
    "    def run(self):\n",
    "        while self.__actif :\n",
    "            print(self.__message)\n",
    "            time.sleep(0.1)\n",
    "\n",
    "    def stop(self):\n",
    "        self.__actif = False\n",
    "\n",
    "App().mainloop()"
   ]
  },
  {
   "cell_type": "markdown",
   "metadata": {},
   "source": [
    "Dans la méthode “run” de la classe “Messager” l’instruction “time.sleep(0.01)” permet de\n",
    "suspendre l’exécution du thread pendant un court instant, pendant lequel les autres threads\n",
    "continueront de fonctionner."
   ]
  },
  {
   "cell_type": "markdown",
   "metadata": {},
   "source": [
    "Au sein de sa fonction “run”, “Generateur“ devra donc générer des propriétés aléatoires\n",
    "pour une balle mobile, les représenter sous forme d’une liste et ajouter cette liste à une file\n",
    "d’attente. Pour cette file, nous utiliserons la classe “Queue” du module “queue” qui représente une file d’attente gérant l’accès concurrentiel : une ressource partagée par\n",
    "plusieurs processus s’exécutant en parallèle. L’ajout d’un nouvel élément ne se fera pas\n",
    "systématiquement, mais uniquement de temps en temps. Pour simuler cela, un tirage aléatoire peut\n",
    "être réalisé et l’ajout ne se fera que si la valeur est inférieure à une valeur limite (par\n",
    "exemple un tirage aléatoire d’une valeur entre 0 et 100 et un ajout lorsqu'elle est inférieure\n",
    "à 5)."
   ]
  },
  {
   "cell_type": "markdown",
   "metadata": {},
   "source": [
    "La file contenant des propriétés pour créer des balles mobiles sera donc stockée comme un\n",
    "attribut de la classe “Generateur” et sera remplie au sein de la méthode “run” de cette\n",
    "même classe."
   ]
  },
  {
   "cell_type": "markdown",
   "metadata": {},
   "source": [
    "Le code suivant illustre l’utilisation de la classe “Queue”. Il consiste à créer une file de\n",
    "capacité maximale 5000 éléments, à ajouter deux éléments et à en retirer un."
   ]
  },
  {
   "cell_type": "code",
   "execution_count": 2,
   "metadata": {
    "collapsed": false
   },
   "outputs": [
    {
     "name": "stdout",
     "output_type": "stream",
     "text": [
      "[1, 2, 3, 4]\n"
     ]
    }
   ],
   "source": [
    "import queue\n",
    "\n",
    "q = queue.Queue(5000)\n",
    "q.put([1,2,3,4])\n",
    "q.put([2,3,4,5])\n",
    "try:\n",
    "    [x1, x2, x3, x4] = q.get(block=False)\n",
    "except queue.Empty:\n",
    "    print(\"Problème : aucun élément dans la file\")\n",
    "else:\n",
    "    print([x1, x2, x3, x4])"
   ]
  },
  {
   "cell_type": "markdown",
   "metadata": {},
   "source": [
    "#### B.2 La classe BalleMobile"
   ]
  },
  {
   "cell_type": "markdown",
   "metadata": {},
   "source": [
    "Cette classe regroupe toutes les propriétés définissant une balle se déplaçant dans la zone\n",
    "d’affichage."
   ]
  },
  {
   "cell_type": "markdown",
   "metadata": {},
   "source": [
    "Le déplacement sera réalisé en faisant périodiquement appel à une méthode “deplacement”\n",
    "à ajouter à la classe BalleMobile qui devra mettre à jour les coordonnées en fonction de ses\n",
    "propriétés de déplacement, et réafficher la balle dans la zone d’affichage. Il faudra gérer le\n",
    "fait que la balle puisse rebondir sur les bords."
   ]
  },
  {
   "cell_type": "markdown",
   "metadata": {},
   "source": [
    "Pour déplacer une forme dans un canevas, il est possible d’utiliser la méthode “move”\n",
    "prédéfinie de la classe “Canvas”. Il faut alors indiquer l’identifiant de la forme (obtenu en\n",
    "retour de la méthode créant la forme dans le canevas), ainsi que les valeurs du vecteur de\n",
    "déplacement en horizontal et en vertical. Par exemple, l’instuction suivante permet\n",
    "d’obtenir l’identifiant d’un cercle affiché dans le canevas “can”, en position (x,y), de rayon r et\n",
    "de couleur c."
   ]
  },
  {
   "cell_type": "raw",
   "metadata": {},
   "source": [
    "id = can.create_oval(x - r, y - r, x + r, y + r, outline=c)"
   ]
  },
  {
   "cell_type": "markdown",
   "metadata": {},
   "source": [
    "Pour déplacer ce cercle d’un vecteur de déplacement (dx,dy), l’instuction suivante peut être\n",
    "utilisée :"
   ]
  },
  {
   "cell_type": "raw",
   "metadata": {},
   "source": [
    "can.move(id,dx,dy)"
   ]
  },
  {
   "cell_type": "markdown",
   "metadata": {},
   "source": [
    "#### B.3 La classe ZoneAffichage"
   ]
  },
  {
   "cell_type": "markdown",
   "metadata": {},
   "source": [
    "Cette classe héritant de “Canvas” est la zone dans laquelle les balles mobiles se déplaceront.\n",
    "Ces instances de la classe “BalleMobile” seront regroupées dans une liste qui sera un attribut\n",
    "de la classe “ZoneAffichage”. Une méthode “ajoutBalle” devra être définie afin de permettre\n",
    "l’ajout d’une nouvelle balle (ajout d’une instance de la classe “BalleMobile” à la liste)."
   ]
  },
  {
   "cell_type": "markdown",
   "metadata": {},
   "source": [
    "L’animation correspondant au déplacement des balles dans la fenêtre sera réalisée grâce à\n",
    "une méthode “afficher” à ajouter à la classe “ZoneAffichage”. Au sein de cette méthode, la\n",
    "liste des balles sera parcourue, et pour chaque balle, un appel à sa méthode “deplacement”\n",
    "sera réalisé. Pour réaliser une animation, ce traitement doit être fait à intervalle régulier de\n",
    "temps. Cela peut être mis en oeuvre grâce à un appel récursif de la méthode “afficher”,\n",
    "après une temporisation grâce à la méthode prédéfinie “after” comme présenté dans le\n",
    "code suivant :"
   ]
  },
  {
   "cell_type": "raw",
   "metadata": {},
   "source": [
    "class ZoneAffichage(Canvas):\n",
    "    def afficher(self):\n",
    "        for b in self.__balles:\n",
    "            b.deplacement()\n",
    "        self.after(10,self.afficher)"
   ]
  },
  {
   "cell_type": "markdown",
   "metadata": {},
   "source": [
    "#### B.4 La classe FenPrincipale"
   ]
  },
  {
   "cell_type": "markdown",
   "metadata": {},
   "source": [
    "Cette classe (héritant de la classe “Tk”) correspond à l’interface principale dans laquelle sera\n",
    "affichée la zone de dessin ainsi que les boutons de contrôle de l’application."
   ]
  },
  {
   "cell_type": "markdown",
   "metadata": {},
   "source": [
    "Un des rôles de cette classe sera également de régulièrement vérifier s’il est possible\n",
    "d’obtenir un nouvel élément de la file des propriétés des balles remplie par l’objet\n",
    "generateur. Pour cela, une méthode “verifie_generateur” pourra être ajoutée à la classe\n",
    "“FenPrincipale”. Cette méthode retirera un élément de la file du générateur, si cela est\n",
    "possible, puis s’appelera récursivement après une temporisation, comme pour la méthode\n",
    "“afficher” de la classe “ZoneAffichage”."
   ]
  },
  {
   "cell_type": "markdown",
   "metadata": {},
   "source": [
    "Une méthode “demarrer” devra également être ajoutée, appelée lors de l’appui sur un\n",
    "bouton “Démarrer”, et son rôle sera de démarrer le thread generateur, ainsi que de faire\n",
    "l’appel initial à la méthode “afficher” de “ZoneAffichage” et “verifie_generateur” de\n",
    "“FenPrincipale”."
   ]
  },
  {
   "cell_type": "markdown",
   "metadata": {},
   "source": [
    "Enfin, une méthode “quitter” sera liée à l’appui sur un bouton “Quitter” et aura pour rôle\n",
    "d’arrêter le thread generateur et de fermer l’application."
   ]
  },
  {
   "cell_type": "code",
   "execution_count": 22,
   "metadata": {
    "collapsed": false
   },
   "outputs": [
    {
     "name": "stderr",
     "output_type": "stream",
     "text": [
      "Exception in Tkinter callback\n",
      "Traceback (most recent call last):\n",
      "  File \"/Users/Emy/Applications/anaconda3/lib/python3.5/tkinter/__init__.py\", line 1549, in __call__\n",
      "    return self.func(*args)\n",
      "  File \"<ipython-input-22-f7e43e9aae43>\", line 55, in demarrer\n",
      "    self.__gene.start()\n",
      "  File \"/Users/Emy/Applications/anaconda3/lib/python3.5/threading.py\", line 837, in start\n",
      "    raise RuntimeError(\"thread.__init__() not called\")\n",
      "RuntimeError: thread.__init__() not called\n"
     ]
    }
   ],
   "source": [
    "from threading import *\n",
    "import time\n",
    "from tkinter import *\n",
    "import queue\n",
    "import random\n",
    "\n",
    "\n",
    "\n",
    "class ZoneAffichage(Canvas):  #La classe ZoneAffichage permet de déterminer les caractéristiques du Canvas\n",
    "    def __init__(self,parent, w, h, c):\n",
    "        Canvas.__init__(self, width = w, height = h, bg = c)  #On définit la taille initiale du canvas\n",
    "        self.__balles=[]\n",
    "    \n",
    "    def ajoutBalle(self,b):\n",
    "        self.__balles.append(b)\n",
    "        \n",
    "    def afficher(self):\n",
    "        for b in self.__balles:\n",
    "            b.deplacement()\n",
    "        self.after(10,self.afficher)\n",
    "\n",
    "        \n",
    "class FenPrincipale(Tk):  \n",
    "    def __init__(self):\n",
    "        Tk.__init__(self)\n",
    "        self.title('Balles aléatoires')  #On initialise le titre\n",
    "        self.__gene=Generateur()\n",
    "        \n",
    "    \n",
    "        self.__zoneAffichage = ZoneAffichage(self,500,400,'black')\n",
    "        self.__zoneAffichage.pack(side=TOP, padx=5, pady=5)\n",
    "        \n",
    "      \n",
    "        self.__f1 = Frame(self)\n",
    "        self.__f1.pack(side=TOP, padx=5, pady=5)\n",
    "        self.__boutonNew=Button(self.__f1,text='Démarrer',width=15,command=self.demarrer).pack(side=LEFT,padx=5,pady=5) #Bouton Démarrer\n",
    "        self.__boutonQuitter = Button(self.__f1,text='Quitter',width=15,command=self.quitter).pack(side=LEFT,padx=5,pady=5)  #Bouton Quitter\n",
    "    \n",
    "    def verifie_generateur(self):\n",
    "        try:\n",
    "             balle = gene.q.get(block=False)\n",
    "        except queue.Empty:\n",
    "            print(\"Problème : aucun élément dans la file\")\n",
    "        else:\n",
    "            return(balle)\n",
    "            self.after(10,self.verifie_generateur)\n",
    "    \n",
    "    def action(self):\n",
    "        self.__zoneAffichage.ajoutBalle(gene.__q.pop())\n",
    "        self.__zoneAffichage.ajoutBalle(gene.__q.pop())\n",
    "        for b in self.__balles:\n",
    "            b.deplacement()\n",
    "    \n",
    "    def demarrer(self):\n",
    "        self.__gene.start()\n",
    "        self.action()\n",
    "        self.__zoneAffichage.afficher()\n",
    "        self.verifie_generateur()\n",
    "        \n",
    "    def quitter(self):\n",
    "        self.__gene.stop()\n",
    "        self.destroy()\n",
    "        \n",
    "\n",
    "\n",
    "class BalleMobile:\n",
    "    def __init__(self,x,y,r,c):\n",
    "        self.__x=x\n",
    "        self.__y=y\n",
    "        self.__r=r\n",
    "        self.__c=c\n",
    "        self.__id = can.create_oval(x - r, y - r, x + r, y + r, outline=c)\n",
    "    \n",
    "    def deplacement(self):\n",
    "        dx=random.randint(-10,10)\n",
    "        dy=random.randint(-10,10)\n",
    "        while dx==0:\n",
    "            dx=random.randint(-10,10)\n",
    "        while dy==0:\n",
    "            dy=random.randint(-10,10)\n",
    "        self.__id=can.move(self.__id,dx,dy)\n",
    "\n",
    "        \n",
    "class Generateur(Thread):\n",
    "    def __init__(self):\n",
    "        self.__couleurs=['b', 'g', 'r', 'c', 'm', 'y', 'k', 'w']\n",
    "        self.__xrange=[i for i in range(1,500)]\n",
    "        self.__yrange=[i for i in range(1,400)]\n",
    "        self.__rrange=[i for i in range(1,20)]\n",
    "        self.__q=queue.Queue(5000)\n",
    "        self.__actif=True\n",
    "        \n",
    "    def run(self):\n",
    "        while self.__actif:\n",
    "            n=random.randint(0,100)\n",
    "            if n<=5:\n",
    "                r=random.choice(self.__rrange)\n",
    "                self.__q.put([random.choice(self.__xrange)-r,random.choice(self.__yrange)-r,r,random.choice(self.__couleurs)])\n",
    "\n",
    "    def stop(self):\n",
    "        self.__actif = False\n",
    "        \n",
    "\n",
    "\n",
    "# Création de la fenêtre principale\n",
    "fen = FenPrincipale()\n",
    "fen.mainloop()       "
   ]
  },
  {
   "cell_type": "code",
   "execution_count": null,
   "metadata": {
    "collapsed": true
   },
   "outputs": [],
   "source": []
  }
 ],
 "metadata": {
  "kernelspec": {
   "display_name": "Python 3",
   "language": "python",
   "name": "python3"
  },
  "language_info": {
   "codemirror_mode": {
    "name": "ipython",
    "version": 3
   },
   "file_extension": ".py",
   "mimetype": "text/x-python",
   "name": "python",
   "nbconvert_exporter": "python",
   "pygments_lexer": "ipython3",
   "version": "3.5.1"
  }
 },
 "nbformat": 4,
 "nbformat_minor": 0
}
