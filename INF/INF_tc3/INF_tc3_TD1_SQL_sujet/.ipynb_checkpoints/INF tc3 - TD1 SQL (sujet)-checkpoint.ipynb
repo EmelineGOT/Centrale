{
 "cells": [
  {
   "cell_type": "markdown",
   "metadata": {},
   "source": [
    "# <center>Informatique tc3 (Projet Web) - TD1</center>"
   ]
  },
  {
   "cell_type": "markdown",
   "metadata": {},
   "source": [
    "## <center style=\"color: #66d\">Base de données SQLite, Firefox et SQLite manager, utilisation via Python</center>"
   ]
  },
  {
   "cell_type": "markdown",
   "metadata": {},
   "source": [
    "### 1. Préambule"
   ]
  },
  {
   "cell_type": "markdown",
   "metadata": {},
   "source": [
    "Dans le cadre de ce TD vous serez amenés à créer une base de données, à l'alimenter à partir de données ouvertes (Open Data) librement disponibles sur l'internet, et à développer quelques programmes Python pour utiliser ces données, en extraire divers résultats, et en obtenir facilement des représentations graphiques."
   ]
  },
  {
   "cell_type": "markdown",
   "metadata": {},
   "source": [
    "Les données dont vous aurez besoin se trouvent sur le serveur pédagogique. Vous devrez :\n",
    "    <ul style=\"margin-top: 0\">\n",
    "    <li> créer un répertoire sur votre machine pour les fichiers relatifs à ce TD,\n",
    "    <li> récupérer sur le serveur pédagogique le sujet <i>(fichier .ipynb)</i> et les fichiers csv, et les placer dans le répertoire que vous venez de créer\n",
    "    <li> démarrer un serveur de notebook dans ce même répertoire avec la commande <tt>ipython notebook</tt> ou toute méthode que vous jugerez utile pour consulter le présent sujet,\n",
    "    <li> effectuer au fur et à mesure le travail demandé, qui consiste en général à remplir les cellules du présent notebook avec du code Python répondant à la question.\n",
    "    </ul>\n",
    "    "
   ]
  },
  {
   "cell_type": "markdown",
   "metadata": {},
   "source": [
    "### 2. Lecture d'un fichier de données"
   ]
  },
  {
   "cell_type": "markdown",
   "metadata": {},
   "source": [
    "L'objectif de cette question est récupérer les données qui se trouvent dans le fichier <tt>regularite-mensuelle-tgv.csv</tt>.\n",
    "<p>Ce fichier est au format <a href=\"https://fr.wikipedia.org/wiki/Comma-separated_values\">CSV</a>. Il s'agit d'un fichier contenant du texte (qui peut à ce titre être ouvert et consulté à l'aide du bloc-notes) qui représente un tableau de  données, dont chaque ligne contient une liste de valeurs séparées par des virgules (ou tout autre <i>caractère séparateur</i>).\n",
    "<p>Le contenu du fichier est constitué de données séparées par le caractère ; <i>point-virgule</i>. Lorsqu'une valeur contient elle-même le caractère séparateur, cette valeur est délimitée par des \" <i>guillemets doubles</i>.\n",
    "<p>Il est encodé en <a href=\"https://fr.wikipedia.org/wiki/UTF-8\">UTF-8</a>. C'est la convention choisie pour représenter les caractères alphabétiques et autres, par un code numérique sur le disque et/ou dans la mémoire de l'ordinateur."
   ]
  },
  {
   "cell_type": "markdown",
   "metadata": {},
   "source": [
    "<div style=\"background-color:#eef;padding:10px;border-radius:3px\">\n",
    "<b>2.1 -</b>\n",
    "En vous aidant de la <a href=\"https://docs.python.org/3/library/csv.html\">doc python</a> pour lire un fichier csv, reproduisez le premier exemple de programme du § 14.1.1 en l'adaptant pour lire le fichier <tt>regularite-mensuelle-tgv.csv</tt>. N'oubliez pas de préciser le caractère séparateur <i>(delimiter)</i> et celui servant à délimiter les valeurs <i>(quotechar)</i>. Si vous observez des caractères bizarres dans le résultat, consultez la <a href=\"https://docs.python.org/3.4/howto/unicode.html#reading-and-writing-unicode-data\">doc python</a> et spécifiez le format du fichier dans l'instruction <tt>open</tt>.\n",
    "<p>\n",
    "Vous devriez observer un résultat similaire à celui-ci :\n",
    "    <img src=\"Q2-1.png\">\n",
    "    <p><b>N.B.</b> Une fois la liste obtenue, si elle vous paraît trop longue vous pouvez cliquer dans la colonne de gauche pour la replier et éviter d'encombrer la fenêtre du sujet..."
   ]
  },
  {
   "cell_type": "code",
   "execution_count": 1,
   "metadata": {
    "collapsed": false
   },
   "outputs": [],
   "source": [
    "import csv\n",
    "with open('eggs.csv', newline='') as csvfile:\n",
    "    spamreader = csv.reader(csvfile, delimiter=' ', quotechar='|')\n",
    "    for row in spamreader:\n",
    "        print(', '.join(row))"
   ]
  },
  {
   "cell_type": "markdown",
   "metadata": {},
   "source": [
    "### 3. Création d'une base SQL"
   ]
  },
  {
   "cell_type": "markdown",
   "metadata": {},
   "source": [
    "<div style=\"background-color:#eef;padding:10px;border-radius:3px\">\n",
    "<b>3.1 -</b>\n",
    "En vous aidant du premier exemple de code de la <a href=\"https://docs.python.org/3.4/library/sqlite3.html\">doc python</a> sur l'utilisation de bases de données SQLite, créez une base de données nommée <tt>sncf.sqlite</tt> et observez dans le répertoire du TD l'appartion du fichier correspondant après exécution du code.\n",
    "<br>\n",
    "<img src=\"Q3-1.png\">"
   ]
  },
  {
   "cell_type": "code",
   "execution_count": 2,
   "metadata": {
    "collapsed": false
   },
   "outputs": [],
   "source": [
    "# votre code ici"
   ]
  },
  {
   "cell_type": "markdown",
   "metadata": {},
   "source": [
    "<div style=\"background-color:#eef;padding:10px;border-radius:3px\">\n",
    "<b>3.2 -</b>\n",
    "Toujours en vous basant sur la <a href=\"https://docs.python.org/3.4/library/sqlite3.html\">doc python</a>, ainsi que sur la <a href=\"https://sqlite.org/lang.html\">syntaxe SQL</a> supportée par la base SQLite, créez une table nommée <tt>regularite_tgv</tt> avec les champs suivants :\n",
    "<pre style=\"background-color: transparent\">\n",
    "  id           // type entier, clé primaire\n",
    "  annee        // type entier\n",
    "  mois         // type entier\n",
    "  axe          // type texte\n",
    "  depart       // type texte\n",
    "  arrivee      // type texte\n",
    "  nb_prevus    // type entier\n",
    "  nb_trains    // type entier\n",
    "  nb_annules   // type entier\n",
    "  nb_retards   // type entier\n",
    "  regularite   // type réel\n",
    "  commentaire  // type texte\n",
    "</pre>\n",
    "<p><b>N.B.</b> Pour permettre l'exécution répétée de votre cellule de code, ajoutez une instruction SQL pour supprimer la table si elle existe, avant de la recréer..."
   ]
  },
  {
   "cell_type": "code",
   "execution_count": 3,
   "metadata": {
    "collapsed": false
   },
   "outputs": [],
   "source": [
    "# votre code ici"
   ]
  },
  {
   "cell_type": "markdown",
   "metadata": {},
   "source": [
    "Autant le succès du programme de création de la base de données (question 3.1) peut s'observer par l'apparition du fichier <tt>sncf.sqlite</tt>, autant nous sommes aveugles pour vérifier la bonne exécution du programme de création de la table.\n",
    "<p>\n",
    "Qu'à cela ne tienne : il nous faut un logiciel nous permettant d'observer le contenu d'une base de données SQLite. Ou mieux : à observer et à interagir avec une base de données SQLIte <i>(créer, supprimer ou modifier des tables et des enregistrements, effectuer des requêtes SQL...)</i>.\n",
    "<p>\n",
    "Un tel outil existe : il s'appelle SQLite Manager et se présente sous la forme d'un add-on pour le navigateur Web Firefox. Firefox possède lui-même l'insigne avantage de pouvoir s'installer aussi bien sous Windows, que Mac ou Linux."
   ]
  },
  {
   "cell_type": "markdown",
   "metadata": {},
   "source": [
    "<div style=\"background-color:#eef;padding:10px;border-radius:3px\">\n",
    "<b>3.3 -</b>\n",
    "Téléchargez et installez Firefox si vous ne l'avez pas déjà, puis installez l'add-on SQLite Manager.\n",
    "<p>\n",
    "Démarrez SQLite Manager et ouvrez la base de données <tt>sncf.sqlite</tt> pour constater l'existence de la table <tt>regularite_tgv</tt>. Si tel n'est pas le cas, corrigez votre programme de la question 3.2 jusqu'à y arriver.\n",
    "<br>\n",
    "<img src=\"Q3-3.png\">"
   ]
  },
  {
   "cell_type": "markdown",
   "metadata": {},
   "source": [
    "### 4. Remplissage de la table de régularité des TGV"
   ]
  },
  {
   "cell_type": "markdown",
   "metadata": {},
   "source": [
    "Il est maintenant temps de passer aux choses sérieuses et de transférer les données depuis le fichier CSV dans la base de données, et plus particulièrement dans la table que nous venons de créer."
   ]
  },
  {
   "cell_type": "markdown",
   "metadata": {},
   "source": [
    "<div style=\"background-color:#eef;padding:10px;border-radius:3px\">\n",
    "<b>4.1 -</b>\n",
    "A partir du code de la question 2.1 permettant de lire le fichier CSV, créez un programme permettant d'insérer les données dans la table <tt>regularite_tgv</tt>.\n",
    "Attention au format de la date : il s'agit d'une chaîne de caractères dans le fichier CSV, et de deux entiers respectivement pour le mois et l'année dans la base de données.\n",
    "<p>\n",
    "<b>N.B.</b> Lors de l'écriture d'un enregistrement dans la table, si on met le champ <tt>id</tt> à <tt>NULL</tt>, il sera automatiquement géré par SQLite pour éviter tout doublon. C'est la magie du type entier, clé primaire.\n",
    "<p>\n",
    "Vérifiez l'apparition des données et la bonne exécution de votre programme à l'aide de SQLite Manager :\n",
    "<br>\n",
    "<img src=\"Q4-1.png\">"
   ]
  },
  {
   "cell_type": "code",
   "execution_count": 4,
   "metadata": {
    "collapsed": false
   },
   "outputs": [],
   "source": [
    "# votre code ici"
   ]
  },
  {
   "cell_type": "markdown",
   "metadata": {},
   "source": [
    "<div style=\"background-color:#eef;padding:10px;border-radius:3px\">\n",
    "<b>4.2 -</b>\n",
    "Comme il est peu probable que vous y arriviez du premier coup, il sera nécessaire de rejouer le programme de remplissage plusieurs fois sans pour autant créer de doublons dans la table.\n",
    "<p>\n",
    "Ajoutez une instruction pour vider la table avant de la remplir."
   ]
  },
  {
   "cell_type": "code",
   "execution_count": 5,
   "metadata": {
    "collapsed": false
   },
   "outputs": [],
   "source": [
    "# votre code ici"
   ]
  },
  {
   "cell_type": "markdown",
   "metadata": {},
   "source": [
    "<div style=\"background-color:#eef;padding:10px;border-radius:3px\">\n",
    "<b>4.3 -</b>\n",
    "Vous l'aurez noté, le remplissage de la table n'est pas instantané... En vous référant à <a href=\"https://docs.python.org/3.4/library/time.html\">la doc python</a>, encadrez la boucle de remplissage de la table, des instructions nécessaires pour afficher le temps d'exécution de cette portion de code.\n",
    "<br>\n",
    "<img src=\"Q4-3.png\">"
   ]
  },
  {
   "cell_type": "code",
   "execution_count": 6,
   "metadata": {
    "collapsed": false
   },
   "outputs": [],
   "source": [
    "# votre code ici"
   ]
  },
  {
   "cell_type": "markdown",
   "metadata": {},
   "source": [
    "### 5. Exploitation de la table de régularité des TGV"
   ]
  },
  {
   "cell_type": "markdown",
   "metadata": {},
   "source": [
    "<div style=\"background-color:#eef;padding:10px;border-radius:3px\">\n",
    "<b>5.1 -</b>\n",
    "Ecrivez un programme Python qui affiche le nombre d'enregistrements dans la table."
   ]
  },
  {
   "cell_type": "code",
   "execution_count": 7,
   "metadata": {
    "collapsed": false
   },
   "outputs": [],
   "source": [
    "# votre code ici"
   ]
  },
  {
   "cell_type": "markdown",
   "metadata": {},
   "source": [
    "<div style=\"background-color:#eef;padding:10px;border-radius:3px\">\n",
    "<b>5.2 -</b>\n",
    "Ecrivez un programme Python qui affiche le nombre d'axes TGV cités dans la base ?"
   ]
  },
  {
   "cell_type": "code",
   "execution_count": 8,
   "metadata": {
    "collapsed": false
   },
   "outputs": [],
   "source": [
    "# votre code ici"
   ]
  },
  {
   "cell_type": "markdown",
   "metadata": {},
   "source": [
    "<div style=\"background-color:#eef;padding:10px;border-radius:3px\">\n",
    "<b>5.3 -</b>\n",
    "Ecrivez un programme Python qui affiche la liste des axes TGV cités dans la base."
   ]
  },
  {
   "cell_type": "code",
   "execution_count": 9,
   "metadata": {
    "collapsed": false
   },
   "outputs": [],
   "source": [
    "# votre code ici"
   ]
  },
  {
   "cell_type": "markdown",
   "metadata": {},
   "source": [
    "<div style=\"background-color:#eef;padding:10px;border-radius:3px\">\n",
    "<b>5.4 -</b>\n",
    "Ecrivez un programme Python qui affiche le nombre et la liste des gares de départ sur l'axe Sud-Est."
   ]
  },
  {
   "cell_type": "code",
   "execution_count": 10,
   "metadata": {
    "collapsed": false
   },
   "outputs": [],
   "source": [
    "# votre code ici"
   ]
  },
  {
   "cell_type": "markdown",
   "metadata": {},
   "source": [
    "<div style=\"background-color:#eef;padding:10px;border-radius:3px\">\n",
    "<b>5.5 -</b>\n",
    "Ecrivez un programme Python qui affiche le nombre de trains au départ de Paris Gare de Lyon en 2014."
   ]
  },
  {
   "cell_type": "code",
   "execution_count": 11,
   "metadata": {
    "collapsed": false
   },
   "outputs": [],
   "source": [
    "# votre code ici"
   ]
  },
  {
   "cell_type": "markdown",
   "metadata": {},
   "source": [
    "<div style=\"background-color:#eef;padding:10px;border-radius:3px\">\n",
    "<b>5.6 -</b>\n",
    "Ecrivez un programme Python qui affiche le nombre de trains partis de Paris Gare de Lyon en 2014 et arrivés avec du retard."
   ]
  },
  {
   "cell_type": "code",
   "execution_count": 12,
   "metadata": {
    "collapsed": false
   },
   "outputs": [],
   "source": [
    "# votre code ici"
   ]
  },
  {
   "cell_type": "markdown",
   "metadata": {},
   "source": [
    "<div style=\"background-color:#eef;padding:10px;border-radius:3px\">\n",
    "<b>5.7 -</b>\n",
    "Ecrivez un programme Python qui affiche le nombre de trains annulés au départ de Paris Gare de Lyon en 2014."
   ]
  },
  {
   "cell_type": "code",
   "execution_count": 13,
   "metadata": {
    "collapsed": false
   },
   "outputs": [],
   "source": [
    "# votre code ici"
   ]
  },
  {
   "cell_type": "markdown",
   "metadata": {},
   "source": [
    "<div style=\"background-color:#eef;padding:10px;border-radius:3px\">\n",
    "<b>5.8 -</b>\n",
    "Ecrivez un programme Python qui affiche le contenu de la table <tt>regularite_tgv</tt> mois par mois, dans l'ordre, au départ de Paris Gare de Lyon, vers Lyon Part Dieu."
   ]
  },
  {
   "cell_type": "code",
   "execution_count": 14,
   "metadata": {
    "collapsed": false
   },
   "outputs": [],
   "source": [
    "# votre code ici"
   ]
  },
  {
   "cell_type": "markdown",
   "metadata": {},
   "source": [
    "<div style=\"background-color:#eef;padding:10px;border-radius:3px\">\n",
    "<b>5.9 -</b>\n",
    "En vous référant au <a href=\"http://matplotlib.org/users/pyplot_tutorial.html\">tutoriel pyplot</a>, tracez la courbe de régularité correspondant à ces données.\n",
    "<br>\n",
    "<img src=\"Q5-9.png\">"
   ]
  },
  {
   "cell_type": "code",
   "execution_count": 15,
   "metadata": {
    "collapsed": false
   },
   "outputs": [],
   "source": [
    "# votre code ici"
   ]
  },
  {
   "cell_type": "markdown",
   "metadata": {},
   "source": [
    "<div style=\"background-color:#eef;padding:10px;border-radius:3px\">\n",
    "<b>5.10 -</b>\n",
    "Consultez <a href=\"http://matplotlib.org/users/pyplot_tutorial.html\">le tutoriel</a> et <a href=\"http://matplotlib.org/api/axis_api.html\">la doc</a>, puis retracez ce graphique avec un titre et un axe des abscisses correctement annoté (mois et années).\n",
    "<br>\n",
    "<img src=\"Q5-10.png\">"
   ]
  },
  {
   "cell_type": "code",
   "execution_count": 16,
   "metadata": {
    "collapsed": false
   },
   "outputs": [],
   "source": [
    "# votre code ici"
   ]
  },
  {
   "cell_type": "markdown",
   "metadata": {},
   "source": [
    "<div style=\"background-color:#eef;padding:10px;border-radius:3px\">\n",
    "<b>5.11 -</b>\n",
    "Le résultat n'étant pas très esthétique, pourquoi ne pas essayer d'afficher les points de mesure superposés à une courbe dérivable ? Voyez <a href=\"http://docs.scipy.org/doc/scipy/reference/tutorial/interpolate.html\">la doc</a> puis retracez cette courbe en interpolant une dizaine de points entre deux points de mesure à l'aide d'une fonction spline.\n",
    "<br>\n",
    "<img src=\"Q5-11.png\">"
   ]
  },
  {
   "cell_type": "code",
   "execution_count": 17,
   "metadata": {
    "collapsed": false
   },
   "outputs": [],
   "source": [
    "# votre code ici"
   ]
  },
  {
   "cell_type": "markdown",
   "metadata": {},
   "source": [
    "<div style=\"background-color:#eef;padding:10px;border-radius:3px\">\n",
    "<b>5.12 -</b>\n",
    "Affichez l'ensemble des commentaires (dernier champ de la table) pour les TVG concernés par cette courbe."
   ]
  },
  {
   "cell_type": "code",
   "execution_count": 18,
   "metadata": {
    "collapsed": false
   },
   "outputs": [],
   "source": [
    "# votre code ici"
   ]
  },
  {
   "cell_type": "markdown",
   "metadata": {},
   "source": [
    "<div style=\"background-color:#eef;padding:10px;border-radius:3px\">\n",
    "<b>5.13 -</b>\n",
    "Affichez les commentaires pour l'ensemble des destinations au départ de Paris Gare de Lyon, en évitant les doublons."
   ]
  },
  {
   "cell_type": "code",
   "execution_count": 19,
   "metadata": {
    "collapsed": false
   },
   "outputs": [],
   "source": [
    "# votre code ici"
   ]
  },
  {
   "cell_type": "markdown",
   "metadata": {},
   "source": [
    "### 6. Nouvelles données"
   ]
  },
  {
   "cell_type": "markdown",
   "metadata": {},
   "source": [
    "<div style=\"background-color:#eef;padding:10px;border-radius:3px\">\n",
    "<b>6.1 -</b>\n",
    "Créez une table <tt>ponctualite_transilien</tt> :\n",
    "<pre style=\"background-color: transparent\">\n",
    "  id           // type entier, clé primaire\n",
    "  annee        // type entier\n",
    "  mois         // type entier\n",
    "  id_ligne     // type texte\n",
    "  type_ligne   // type texte\n",
    "  code_ligne   // type texte\n",
    "  nom_ligne    // type texte\n",
    "  ponctualite  // type réel\n",
    "</pre>\n",
    "et chargez-la avec les données du fichier <tt>ponctualite-mensuelle-transilien.csv</tt>."
   ]
  },
  {
   "cell_type": "code",
   "execution_count": 20,
   "metadata": {
    "collapsed": false
   },
   "outputs": [],
   "source": [
    "# votre code ici"
   ]
  },
  {
   "cell_type": "markdown",
   "metadata": {},
   "source": [
    "<div style=\"background-color:#eef;padding:10px;border-radius:3px\">\n",
    "<b>6.2 -</b>\n",
    "Affichez le nombre de lignes (de train) répertoriées dans cette table, et  leur liste avec id, type, code et nom correctement formattés."
   ]
  },
  {
   "cell_type": "code",
   "execution_count": 21,
   "metadata": {
    "collapsed": false
   },
   "outputs": [],
   "source": [
    "# votre code ici"
   ]
  },
  {
   "cell_type": "markdown",
   "metadata": {},
   "source": [
    "<div style=\"background-color:#eef;padding:10px;border-radius:3px\">\n",
    "<b>6.3 -</b>\n",
    "Créez une table <tt>couleur_transilien</tt> :\n",
    "<pre style=\"background-color: transparent\">\n",
    "  id           // type entier, clé primaire\n",
    "  id_ligne     // type texte\n",
    "  couleur      // type texte\n",
    "  rouge        // type entier\n",
    "  vert         // type entier\n",
    "  bleu         // type entier\n",
    "  hexadecimal  // type texte\n",
    "</pre>\n",
    "    et remplissez-la avec les informations du fichier <tt>code-couleur-transilien.csv</tt> en calculant les valeurs du champ <tt>code_ligne</tt> à partir des informations du fichier, de manière à ce que les valeurs obtenues soient cohérentes avec celles du champ éponyme de la table <tt>ponctualite_transilien</tt> <i>(clé étrangère)</i>."
   ]
  },
  {
   "cell_type": "code",
   "execution_count": 22,
   "metadata": {
    "collapsed": false
   },
   "outputs": [],
   "source": [
    "# votre code ici"
   ]
  },
  {
   "cell_type": "markdown",
   "metadata": {},
   "source": [
    "<div style=\"background-color:#eef;padding:10px;border-radius:3px\">\n",
    "<b>6.4 -</b>\n",
    "Tracez un graphique supperposant les courbes de ponctualité des lignes de RER en respectant les couleurs.\n",
    "\n",
    "<p>\n",
    "Attention à corriger au mieux l'absence d'information <i>(il y a une valeur de ponctualité manquante pour le RER B)</i>.\n",
    "<p>\n",
    "Exemple de résultat :\n",
    "<br>\n",
    "<img src=\"Q6-4.png\">"
   ]
  },
  {
   "cell_type": "code",
   "execution_count": 23,
   "metadata": {
    "collapsed": false
   },
   "outputs": [],
   "source": [
    "# votre code ici"
   ]
  },
  {
   "cell_type": "code",
   "execution_count": 24,
   "metadata": {
    "collapsed": false
   },
   "outputs": [],
   "source": [
    "# votre code ici"
   ]
  }
 ],
 "metadata": {
  "kernelspec": {
   "display_name": "Python 3",
   "language": "python",
   "name": "python3"
  },
  "language_info": {
   "codemirror_mode": {
    "name": "ipython",
    "version": 3
   },
   "file_extension": ".py",
   "mimetype": "text/x-python",
   "name": "python",
   "nbconvert_exporter": "python",
   "pygments_lexer": "ipython3",
   "version": "3.5.1"
  }
 },
 "nbformat": 4,
 "nbformat_minor": 0
}
